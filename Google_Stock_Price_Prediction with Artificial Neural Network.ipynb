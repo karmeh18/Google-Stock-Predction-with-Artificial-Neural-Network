{
  "nbformat": 4,
  "nbformat_minor": 0,
  "metadata": {
    "colab": {
      "provenance": []
    },
    "kernelspec": {
      "name": "python3",
      "display_name": "Python 3"
    },
    "language_info": {
      "name": "python"
    }
  },
  "cells": [
    {
      "cell_type": "code",
      "execution_count": 132,
      "metadata": {
        "id": "iY1sgESN9H5t"
      },
      "outputs": [],
      "source": [
        "import pandas as pd\n",
        "import numpy as np\n",
        "import matplotlib.pyplot as plt\n",
        "import keras\n",
        "from keras.layers import Dense, Activation\n",
        "from keras.models import Sequential\n",
        "from sklearn.model_selection import train_test_split\n",
        "from sklearn.preprocessing import StandardScaler\n",
        "from sklearn.metrics import r2_score\n",
        "import re\n",
        "import seaborn as sns\n",
        "import warnings\n",
        "warnings.filterwarnings(\"ignore\")"
      ]
    },
    {
      "cell_type": "code",
      "source": [
        "data=pd.read_csv(\"/content/Google_Stock_Price_Train.csv\")\n",
        "data.head()"
      ],
      "metadata": {
        "id": "tEwaYYqW95KB",
        "outputId": "1f1448a3-bed8-459a-ae78-636920c8b5d0",
        "colab": {
          "base_uri": "https://localhost:8080/",
          "height": 206
        }
      },
      "execution_count": 74,
      "outputs": [
        {
          "output_type": "execute_result",
          "data": {
            "text/plain": [
              "       Date    Open    High     Low   Close      Volume\n",
              "0  1/3/2012  325.25  332.83  324.97  663.59   7,380,500\n",
              "1  1/4/2012  331.27  333.87  329.08  666.45   5,749,400\n",
              "2  1/5/2012  329.83  330.75  326.89  657.21   6,590,300\n",
              "3  1/6/2012  328.34  328.77  323.68  648.24   5,405,900\n",
              "4  1/9/2012  322.04  322.29  309.46  620.76  11,688,800"
            ],
            "text/html": [
              "\n",
              "  <div id=\"df-7dd8adb0-bc5c-471d-9dcf-980eb0e4883b\">\n",
              "    <div class=\"colab-df-container\">\n",
              "      <div>\n",
              "<style scoped>\n",
              "    .dataframe tbody tr th:only-of-type {\n",
              "        vertical-align: middle;\n",
              "    }\n",
              "\n",
              "    .dataframe tbody tr th {\n",
              "        vertical-align: top;\n",
              "    }\n",
              "\n",
              "    .dataframe thead th {\n",
              "        text-align: right;\n",
              "    }\n",
              "</style>\n",
              "<table border=\"1\" class=\"dataframe\">\n",
              "  <thead>\n",
              "    <tr style=\"text-align: right;\">\n",
              "      <th></th>\n",
              "      <th>Date</th>\n",
              "      <th>Open</th>\n",
              "      <th>High</th>\n",
              "      <th>Low</th>\n",
              "      <th>Close</th>\n",
              "      <th>Volume</th>\n",
              "    </tr>\n",
              "  </thead>\n",
              "  <tbody>\n",
              "    <tr>\n",
              "      <th>0</th>\n",
              "      <td>1/3/2012</td>\n",
              "      <td>325.25</td>\n",
              "      <td>332.83</td>\n",
              "      <td>324.97</td>\n",
              "      <td>663.59</td>\n",
              "      <td>7,380,500</td>\n",
              "    </tr>\n",
              "    <tr>\n",
              "      <th>1</th>\n",
              "      <td>1/4/2012</td>\n",
              "      <td>331.27</td>\n",
              "      <td>333.87</td>\n",
              "      <td>329.08</td>\n",
              "      <td>666.45</td>\n",
              "      <td>5,749,400</td>\n",
              "    </tr>\n",
              "    <tr>\n",
              "      <th>2</th>\n",
              "      <td>1/5/2012</td>\n",
              "      <td>329.83</td>\n",
              "      <td>330.75</td>\n",
              "      <td>326.89</td>\n",
              "      <td>657.21</td>\n",
              "      <td>6,590,300</td>\n",
              "    </tr>\n",
              "    <tr>\n",
              "      <th>3</th>\n",
              "      <td>1/6/2012</td>\n",
              "      <td>328.34</td>\n",
              "      <td>328.77</td>\n",
              "      <td>323.68</td>\n",
              "      <td>648.24</td>\n",
              "      <td>5,405,900</td>\n",
              "    </tr>\n",
              "    <tr>\n",
              "      <th>4</th>\n",
              "      <td>1/9/2012</td>\n",
              "      <td>322.04</td>\n",
              "      <td>322.29</td>\n",
              "      <td>309.46</td>\n",
              "      <td>620.76</td>\n",
              "      <td>11,688,800</td>\n",
              "    </tr>\n",
              "  </tbody>\n",
              "</table>\n",
              "</div>\n",
              "      <button class=\"colab-df-convert\" onclick=\"convertToInteractive('df-7dd8adb0-bc5c-471d-9dcf-980eb0e4883b')\"\n",
              "              title=\"Convert this dataframe to an interactive table.\"\n",
              "              style=\"display:none;\">\n",
              "        \n",
              "  <svg xmlns=\"http://www.w3.org/2000/svg\" height=\"24px\"viewBox=\"0 0 24 24\"\n",
              "       width=\"24px\">\n",
              "    <path d=\"M0 0h24v24H0V0z\" fill=\"none\"/>\n",
              "    <path d=\"M18.56 5.44l.94 2.06.94-2.06 2.06-.94-2.06-.94-.94-2.06-.94 2.06-2.06.94zm-11 1L8.5 8.5l.94-2.06 2.06-.94-2.06-.94L8.5 2.5l-.94 2.06-2.06.94zm10 10l.94 2.06.94-2.06 2.06-.94-2.06-.94-.94-2.06-.94 2.06-2.06.94z\"/><path d=\"M17.41 7.96l-1.37-1.37c-.4-.4-.92-.59-1.43-.59-.52 0-1.04.2-1.43.59L10.3 9.45l-7.72 7.72c-.78.78-.78 2.05 0 2.83L4 21.41c.39.39.9.59 1.41.59.51 0 1.02-.2 1.41-.59l7.78-7.78 2.81-2.81c.8-.78.8-2.07 0-2.86zM5.41 20L4 18.59l7.72-7.72 1.47 1.35L5.41 20z\"/>\n",
              "  </svg>\n",
              "      </button>\n",
              "      \n",
              "  <style>\n",
              "    .colab-df-container {\n",
              "      display:flex;\n",
              "      flex-wrap:wrap;\n",
              "      gap: 12px;\n",
              "    }\n",
              "\n",
              "    .colab-df-convert {\n",
              "      background-color: #E8F0FE;\n",
              "      border: none;\n",
              "      border-radius: 50%;\n",
              "      cursor: pointer;\n",
              "      display: none;\n",
              "      fill: #1967D2;\n",
              "      height: 32px;\n",
              "      padding: 0 0 0 0;\n",
              "      width: 32px;\n",
              "    }\n",
              "\n",
              "    .colab-df-convert:hover {\n",
              "      background-color: #E2EBFA;\n",
              "      box-shadow: 0px 1px 2px rgba(60, 64, 67, 0.3), 0px 1px 3px 1px rgba(60, 64, 67, 0.15);\n",
              "      fill: #174EA6;\n",
              "    }\n",
              "\n",
              "    [theme=dark] .colab-df-convert {\n",
              "      background-color: #3B4455;\n",
              "      fill: #D2E3FC;\n",
              "    }\n",
              "\n",
              "    [theme=dark] .colab-df-convert:hover {\n",
              "      background-color: #434B5C;\n",
              "      box-shadow: 0px 1px 3px 1px rgba(0, 0, 0, 0.15);\n",
              "      filter: drop-shadow(0px 1px 2px rgba(0, 0, 0, 0.3));\n",
              "      fill: #FFFFFF;\n",
              "    }\n",
              "  </style>\n",
              "\n",
              "      <script>\n",
              "        const buttonEl =\n",
              "          document.querySelector('#df-7dd8adb0-bc5c-471d-9dcf-980eb0e4883b button.colab-df-convert');\n",
              "        buttonEl.style.display =\n",
              "          google.colab.kernel.accessAllowed ? 'block' : 'none';\n",
              "\n",
              "        async function convertToInteractive(key) {\n",
              "          const element = document.querySelector('#df-7dd8adb0-bc5c-471d-9dcf-980eb0e4883b');\n",
              "          const dataTable =\n",
              "            await google.colab.kernel.invokeFunction('convertToInteractive',\n",
              "                                                     [key], {});\n",
              "          if (!dataTable) return;\n",
              "\n",
              "          const docLinkHtml = 'Like what you see? Visit the ' +\n",
              "            '<a target=\"_blank\" href=https://colab.research.google.com/notebooks/data_table.ipynb>data table notebook</a>'\n",
              "            + ' to learn more about interactive tables.';\n",
              "          element.innerHTML = '';\n",
              "          dataTable['output_type'] = 'display_data';\n",
              "          await google.colab.output.renderOutput(dataTable, element);\n",
              "          const docLink = document.createElement('div');\n",
              "          docLink.innerHTML = docLinkHtml;\n",
              "          element.appendChild(docLink);\n",
              "        }\n",
              "      </script>\n",
              "    </div>\n",
              "  </div>\n",
              "  "
            ]
          },
          "metadata": {},
          "execution_count": 74
        }
      ]
    },
    {
      "cell_type": "markdown",
      "source": [
        "Data is available in Kaggle website."
      ],
      "metadata": {
        "id": "x7Ij9OvuAath"
      }
    },
    {
      "cell_type": "code",
      "source": [
        "data.duplicated().sum()"
      ],
      "metadata": {
        "colab": {
          "base_uri": "https://localhost:8080/"
        },
        "id": "9aCbj4CM-WIv",
        "outputId": "a1dddfdb-3555-42c0-b2f9-259d36113caa"
      },
      "execution_count": 75,
      "outputs": [
        {
          "output_type": "execute_result",
          "data": {
            "text/plain": [
              "0"
            ]
          },
          "metadata": {},
          "execution_count": 75
        }
      ]
    },
    {
      "cell_type": "code",
      "source": [
        "#Treatment of Missing Values\n",
        "data.isnull().sum()"
      ],
      "metadata": {
        "colab": {
          "base_uri": "https://localhost:8080/"
        },
        "id": "sY9281nF-bBJ",
        "outputId": "55197738-54c6-4bcf-b1d6-897541e1eb76"
      },
      "execution_count": 76,
      "outputs": [
        {
          "output_type": "execute_result",
          "data": {
            "text/plain": [
              "Date      0\n",
              "Open      0\n",
              "High      0\n",
              "Low       0\n",
              "Close     0\n",
              "Volume    0\n",
              "dtype: int64"
            ]
          },
          "metadata": {},
          "execution_count": 76
        }
      ]
    },
    {
      "cell_type": "code",
      "source": [
        "data.info()"
      ],
      "metadata": {
        "colab": {
          "base_uri": "https://localhost:8080/"
        },
        "id": "bcA-KI8i-cYX",
        "outputId": "c93549a4-eec3-4fe7-fabe-cd4b70686cd7"
      },
      "execution_count": 77,
      "outputs": [
        {
          "output_type": "stream",
          "name": "stdout",
          "text": [
            "<class 'pandas.core.frame.DataFrame'>\n",
            "RangeIndex: 1258 entries, 0 to 1257\n",
            "Data columns (total 6 columns):\n",
            " #   Column  Non-Null Count  Dtype  \n",
            "---  ------  --------------  -----  \n",
            " 0   Date    1258 non-null   object \n",
            " 1   Open    1258 non-null   float64\n",
            " 2   High    1258 non-null   float64\n",
            " 3   Low     1258 non-null   float64\n",
            " 4   Close   1258 non-null   object \n",
            " 5   Volume  1258 non-null   object \n",
            "dtypes: float64(3), object(3)\n",
            "memory usage: 59.1+ KB\n"
          ]
        }
      ]
    },
    {
      "cell_type": "markdown",
      "source": [
        "From the above Ouput, it can be observed that Close and Volumne variables have object data type that means Python is storing these values in string format."
      ],
      "metadata": {
        "id": "5ki4o37JAjZf"
      }
    },
    {
      "cell_type": "code",
      "source": [
        "#Changing the Data types of Close and Volume columns\n",
        "#data[\"Volume\"][0].split(',')\n",
        "temp=[]\n",
        "for i in range(data.shape[0]):\n",
        "  temp.append(int(re.sub('[,]', '',data[\"Volume\"][i])))\n",
        "temp1=pd.DataFrame(temp,columns=[\"int_Volume\"])"
      ],
      "metadata": {
        "id": "zM6UT2L6Cfqh"
      },
      "execution_count": 78,
      "outputs": []
    },
    {
      "cell_type": "markdown",
      "source": [
        "The purpose of above code is to convert string values with commas to propert integer values."
      ],
      "metadata": {
        "id": "O_LXdR5aAu-j"
      }
    },
    {
      "cell_type": "code",
      "source": [
        "data=pd.concat([data,temp1],axis=1)\n",
        "data.head()"
      ],
      "metadata": {
        "colab": {
          "base_uri": "https://localhost:8080/",
          "height": 206
        },
        "id": "w4L19b8dF1O2",
        "outputId": "d1f305aa-30aa-4ab6-a62d-df5c96fcd34b"
      },
      "execution_count": 80,
      "outputs": [
        {
          "output_type": "execute_result",
          "data": {
            "text/plain": [
              "       Date    Open    High     Low   Close      Volume  int_Volume\n",
              "0  1/3/2012  325.25  332.83  324.97  663.59   7,380,500     7380500\n",
              "1  1/4/2012  331.27  333.87  329.08  666.45   5,749,400     5749400\n",
              "2  1/5/2012  329.83  330.75  326.89  657.21   6,590,300     6590300\n",
              "3  1/6/2012  328.34  328.77  323.68  648.24   5,405,900     5405900\n",
              "4  1/9/2012  322.04  322.29  309.46  620.76  11,688,800    11688800"
            ],
            "text/html": [
              "\n",
              "  <div id=\"df-ad3d5d92-8d46-4203-a820-e2fc3dc5a972\">\n",
              "    <div class=\"colab-df-container\">\n",
              "      <div>\n",
              "<style scoped>\n",
              "    .dataframe tbody tr th:only-of-type {\n",
              "        vertical-align: middle;\n",
              "    }\n",
              "\n",
              "    .dataframe tbody tr th {\n",
              "        vertical-align: top;\n",
              "    }\n",
              "\n",
              "    .dataframe thead th {\n",
              "        text-align: right;\n",
              "    }\n",
              "</style>\n",
              "<table border=\"1\" class=\"dataframe\">\n",
              "  <thead>\n",
              "    <tr style=\"text-align: right;\">\n",
              "      <th></th>\n",
              "      <th>Date</th>\n",
              "      <th>Open</th>\n",
              "      <th>High</th>\n",
              "      <th>Low</th>\n",
              "      <th>Close</th>\n",
              "      <th>Volume</th>\n",
              "      <th>int_Volume</th>\n",
              "    </tr>\n",
              "  </thead>\n",
              "  <tbody>\n",
              "    <tr>\n",
              "      <th>0</th>\n",
              "      <td>1/3/2012</td>\n",
              "      <td>325.25</td>\n",
              "      <td>332.83</td>\n",
              "      <td>324.97</td>\n",
              "      <td>663.59</td>\n",
              "      <td>7,380,500</td>\n",
              "      <td>7380500</td>\n",
              "    </tr>\n",
              "    <tr>\n",
              "      <th>1</th>\n",
              "      <td>1/4/2012</td>\n",
              "      <td>331.27</td>\n",
              "      <td>333.87</td>\n",
              "      <td>329.08</td>\n",
              "      <td>666.45</td>\n",
              "      <td>5,749,400</td>\n",
              "      <td>5749400</td>\n",
              "    </tr>\n",
              "    <tr>\n",
              "      <th>2</th>\n",
              "      <td>1/5/2012</td>\n",
              "      <td>329.83</td>\n",
              "      <td>330.75</td>\n",
              "      <td>326.89</td>\n",
              "      <td>657.21</td>\n",
              "      <td>6,590,300</td>\n",
              "      <td>6590300</td>\n",
              "    </tr>\n",
              "    <tr>\n",
              "      <th>3</th>\n",
              "      <td>1/6/2012</td>\n",
              "      <td>328.34</td>\n",
              "      <td>328.77</td>\n",
              "      <td>323.68</td>\n",
              "      <td>648.24</td>\n",
              "      <td>5,405,900</td>\n",
              "      <td>5405900</td>\n",
              "    </tr>\n",
              "    <tr>\n",
              "      <th>4</th>\n",
              "      <td>1/9/2012</td>\n",
              "      <td>322.04</td>\n",
              "      <td>322.29</td>\n",
              "      <td>309.46</td>\n",
              "      <td>620.76</td>\n",
              "      <td>11,688,800</td>\n",
              "      <td>11688800</td>\n",
              "    </tr>\n",
              "  </tbody>\n",
              "</table>\n",
              "</div>\n",
              "      <button class=\"colab-df-convert\" onclick=\"convertToInteractive('df-ad3d5d92-8d46-4203-a820-e2fc3dc5a972')\"\n",
              "              title=\"Convert this dataframe to an interactive table.\"\n",
              "              style=\"display:none;\">\n",
              "        \n",
              "  <svg xmlns=\"http://www.w3.org/2000/svg\" height=\"24px\"viewBox=\"0 0 24 24\"\n",
              "       width=\"24px\">\n",
              "    <path d=\"M0 0h24v24H0V0z\" fill=\"none\"/>\n",
              "    <path d=\"M18.56 5.44l.94 2.06.94-2.06 2.06-.94-2.06-.94-.94-2.06-.94 2.06-2.06.94zm-11 1L8.5 8.5l.94-2.06 2.06-.94-2.06-.94L8.5 2.5l-.94 2.06-2.06.94zm10 10l.94 2.06.94-2.06 2.06-.94-2.06-.94-.94-2.06-.94 2.06-2.06.94z\"/><path d=\"M17.41 7.96l-1.37-1.37c-.4-.4-.92-.59-1.43-.59-.52 0-1.04.2-1.43.59L10.3 9.45l-7.72 7.72c-.78.78-.78 2.05 0 2.83L4 21.41c.39.39.9.59 1.41.59.51 0 1.02-.2 1.41-.59l7.78-7.78 2.81-2.81c.8-.78.8-2.07 0-2.86zM5.41 20L4 18.59l7.72-7.72 1.47 1.35L5.41 20z\"/>\n",
              "  </svg>\n",
              "      </button>\n",
              "      \n",
              "  <style>\n",
              "    .colab-df-container {\n",
              "      display:flex;\n",
              "      flex-wrap:wrap;\n",
              "      gap: 12px;\n",
              "    }\n",
              "\n",
              "    .colab-df-convert {\n",
              "      background-color: #E8F0FE;\n",
              "      border: none;\n",
              "      border-radius: 50%;\n",
              "      cursor: pointer;\n",
              "      display: none;\n",
              "      fill: #1967D2;\n",
              "      height: 32px;\n",
              "      padding: 0 0 0 0;\n",
              "      width: 32px;\n",
              "    }\n",
              "\n",
              "    .colab-df-convert:hover {\n",
              "      background-color: #E2EBFA;\n",
              "      box-shadow: 0px 1px 2px rgba(60, 64, 67, 0.3), 0px 1px 3px 1px rgba(60, 64, 67, 0.15);\n",
              "      fill: #174EA6;\n",
              "    }\n",
              "\n",
              "    [theme=dark] .colab-df-convert {\n",
              "      background-color: #3B4455;\n",
              "      fill: #D2E3FC;\n",
              "    }\n",
              "\n",
              "    [theme=dark] .colab-df-convert:hover {\n",
              "      background-color: #434B5C;\n",
              "      box-shadow: 0px 1px 3px 1px rgba(0, 0, 0, 0.15);\n",
              "      filter: drop-shadow(0px 1px 2px rgba(0, 0, 0, 0.3));\n",
              "      fill: #FFFFFF;\n",
              "    }\n",
              "  </style>\n",
              "\n",
              "      <script>\n",
              "        const buttonEl =\n",
              "          document.querySelector('#df-ad3d5d92-8d46-4203-a820-e2fc3dc5a972 button.colab-df-convert');\n",
              "        buttonEl.style.display =\n",
              "          google.colab.kernel.accessAllowed ? 'block' : 'none';\n",
              "\n",
              "        async function convertToInteractive(key) {\n",
              "          const element = document.querySelector('#df-ad3d5d92-8d46-4203-a820-e2fc3dc5a972');\n",
              "          const dataTable =\n",
              "            await google.colab.kernel.invokeFunction('convertToInteractive',\n",
              "                                                     [key], {});\n",
              "          if (!dataTable) return;\n",
              "\n",
              "          const docLinkHtml = 'Like what you see? Visit the ' +\n",
              "            '<a target=\"_blank\" href=https://colab.research.google.com/notebooks/data_table.ipynb>data table notebook</a>'\n",
              "            + ' to learn more about interactive tables.';\n",
              "          element.innerHTML = '';\n",
              "          dataTable['output_type'] = 'display_data';\n",
              "          await google.colab.output.renderOutput(dataTable, element);\n",
              "          const docLink = document.createElement('div');\n",
              "          docLink.innerHTML = docLinkHtml;\n",
              "          element.appendChild(docLink);\n",
              "        }\n",
              "      </script>\n",
              "    </div>\n",
              "  </div>\n",
              "  "
            ]
          },
          "metadata": {},
          "execution_count": 80
        }
      ]
    },
    {
      "cell_type": "markdown",
      "source": [
        "Concatenation is used so that the new values that are saved in temporary dataframe can be shifted to a the source data."
      ],
      "metadata": {
        "id": "m9nmKxLqCkX_"
      }
    },
    {
      "cell_type": "code",
      "source": [
        "data.drop(\"Volume\",axis=1,inplace=True)"
      ],
      "metadata": {
        "id": "LUGZ8UsCKnSJ"
      },
      "execution_count": 84,
      "outputs": []
    },
    {
      "cell_type": "code",
      "source": [
        "data.head()\n",
        "data.info()"
      ],
      "metadata": {
        "colab": {
          "base_uri": "https://localhost:8080/"
        },
        "id": "f9JTGgF0fcqU",
        "outputId": "bc7c77a7-d8f5-446a-fe9c-bd4e4d425579"
      },
      "execution_count": 87,
      "outputs": [
        {
          "output_type": "stream",
          "name": "stdout",
          "text": [
            "<class 'pandas.core.frame.DataFrame'>\n",
            "RangeIndex: 1258 entries, 0 to 1257\n",
            "Data columns (total 6 columns):\n",
            " #   Column      Non-Null Count  Dtype  \n",
            "---  ------      --------------  -----  \n",
            " 0   Date        1258 non-null   object \n",
            " 1   Open        1258 non-null   float64\n",
            " 2   High        1258 non-null   float64\n",
            " 3   Low         1258 non-null   float64\n",
            " 4   Close       1258 non-null   object \n",
            " 5   int_Volume  1258 non-null   int64  \n",
            "dtypes: float64(3), int64(1), object(2)\n",
            "memory usage: 59.1+ KB\n"
          ]
        }
      ]
    },
    {
      "cell_type": "code",
      "source": [
        "np.float64(data[\"Close\"][0])"
      ],
      "metadata": {
        "colab": {
          "base_uri": "https://localhost:8080/"
        },
        "id": "SLshOVDFfgwR",
        "outputId": "39749483-43cf-4eb1-c593-f5612b4051d1"
      },
      "execution_count": 109,
      "outputs": [
        {
          "output_type": "execute_result",
          "data": {
            "text/plain": [
              "663.59"
            ]
          },
          "metadata": {},
          "execution_count": 109
        }
      ]
    },
    {
      "cell_type": "code",
      "source": [
        "temp=[]\n",
        "for i in range(data.shape[0]):\n",
        "  temp.append(np.float64(re.sub('[,]', '',data[\"Close\"][i])))\n",
        "temp1=pd.DataFrame(temp,columns=[\"int_Close\"])\n",
        "data=pd.concat([data,temp1],axis=1).drop(\"Close\",axis=1)"
      ],
      "metadata": {
        "id": "lC1rJ_yyfq4j"
      },
      "execution_count": 115,
      "outputs": []
    },
    {
      "cell_type": "markdown",
      "source": [
        "The same execution is done for Close feature. With cocatenation too."
      ],
      "metadata": {
        "id": "77wNnykqCwmW"
      }
    },
    {
      "cell_type": "code",
      "source": [
        "data.head()"
      ],
      "metadata": {
        "colab": {
          "base_uri": "https://localhost:8080/",
          "height": 206
        },
        "id": "i-oVIb9hgwjp",
        "outputId": "31842552-01b6-4aa4-e889-3f16dc291e71"
      },
      "execution_count": 117,
      "outputs": [
        {
          "output_type": "execute_result",
          "data": {
            "text/plain": [
              "       Date    Open    High     Low  int_Volume  int_Close\n",
              "0  1/3/2012  325.25  332.83  324.97     7380500     663.59\n",
              "1  1/4/2012  331.27  333.87  329.08     5749400     666.45\n",
              "2  1/5/2012  329.83  330.75  326.89     6590300     657.21\n",
              "3  1/6/2012  328.34  328.77  323.68     5405900     648.24\n",
              "4  1/9/2012  322.04  322.29  309.46    11688800     620.76"
            ],
            "text/html": [
              "\n",
              "  <div id=\"df-b5f1ab25-3c9e-4d56-b27a-92aef876db5e\">\n",
              "    <div class=\"colab-df-container\">\n",
              "      <div>\n",
              "<style scoped>\n",
              "    .dataframe tbody tr th:only-of-type {\n",
              "        vertical-align: middle;\n",
              "    }\n",
              "\n",
              "    .dataframe tbody tr th {\n",
              "        vertical-align: top;\n",
              "    }\n",
              "\n",
              "    .dataframe thead th {\n",
              "        text-align: right;\n",
              "    }\n",
              "</style>\n",
              "<table border=\"1\" class=\"dataframe\">\n",
              "  <thead>\n",
              "    <tr style=\"text-align: right;\">\n",
              "      <th></th>\n",
              "      <th>Date</th>\n",
              "      <th>Open</th>\n",
              "      <th>High</th>\n",
              "      <th>Low</th>\n",
              "      <th>int_Volume</th>\n",
              "      <th>int_Close</th>\n",
              "    </tr>\n",
              "  </thead>\n",
              "  <tbody>\n",
              "    <tr>\n",
              "      <th>0</th>\n",
              "      <td>1/3/2012</td>\n",
              "      <td>325.25</td>\n",
              "      <td>332.83</td>\n",
              "      <td>324.97</td>\n",
              "      <td>7380500</td>\n",
              "      <td>663.59</td>\n",
              "    </tr>\n",
              "    <tr>\n",
              "      <th>1</th>\n",
              "      <td>1/4/2012</td>\n",
              "      <td>331.27</td>\n",
              "      <td>333.87</td>\n",
              "      <td>329.08</td>\n",
              "      <td>5749400</td>\n",
              "      <td>666.45</td>\n",
              "    </tr>\n",
              "    <tr>\n",
              "      <th>2</th>\n",
              "      <td>1/5/2012</td>\n",
              "      <td>329.83</td>\n",
              "      <td>330.75</td>\n",
              "      <td>326.89</td>\n",
              "      <td>6590300</td>\n",
              "      <td>657.21</td>\n",
              "    </tr>\n",
              "    <tr>\n",
              "      <th>3</th>\n",
              "      <td>1/6/2012</td>\n",
              "      <td>328.34</td>\n",
              "      <td>328.77</td>\n",
              "      <td>323.68</td>\n",
              "      <td>5405900</td>\n",
              "      <td>648.24</td>\n",
              "    </tr>\n",
              "    <tr>\n",
              "      <th>4</th>\n",
              "      <td>1/9/2012</td>\n",
              "      <td>322.04</td>\n",
              "      <td>322.29</td>\n",
              "      <td>309.46</td>\n",
              "      <td>11688800</td>\n",
              "      <td>620.76</td>\n",
              "    </tr>\n",
              "  </tbody>\n",
              "</table>\n",
              "</div>\n",
              "      <button class=\"colab-df-convert\" onclick=\"convertToInteractive('df-b5f1ab25-3c9e-4d56-b27a-92aef876db5e')\"\n",
              "              title=\"Convert this dataframe to an interactive table.\"\n",
              "              style=\"display:none;\">\n",
              "        \n",
              "  <svg xmlns=\"http://www.w3.org/2000/svg\" height=\"24px\"viewBox=\"0 0 24 24\"\n",
              "       width=\"24px\">\n",
              "    <path d=\"M0 0h24v24H0V0z\" fill=\"none\"/>\n",
              "    <path d=\"M18.56 5.44l.94 2.06.94-2.06 2.06-.94-2.06-.94-.94-2.06-.94 2.06-2.06.94zm-11 1L8.5 8.5l.94-2.06 2.06-.94-2.06-.94L8.5 2.5l-.94 2.06-2.06.94zm10 10l.94 2.06.94-2.06 2.06-.94-2.06-.94-.94-2.06-.94 2.06-2.06.94z\"/><path d=\"M17.41 7.96l-1.37-1.37c-.4-.4-.92-.59-1.43-.59-.52 0-1.04.2-1.43.59L10.3 9.45l-7.72 7.72c-.78.78-.78 2.05 0 2.83L4 21.41c.39.39.9.59 1.41.59.51 0 1.02-.2 1.41-.59l7.78-7.78 2.81-2.81c.8-.78.8-2.07 0-2.86zM5.41 20L4 18.59l7.72-7.72 1.47 1.35L5.41 20z\"/>\n",
              "  </svg>\n",
              "      </button>\n",
              "      \n",
              "  <style>\n",
              "    .colab-df-container {\n",
              "      display:flex;\n",
              "      flex-wrap:wrap;\n",
              "      gap: 12px;\n",
              "    }\n",
              "\n",
              "    .colab-df-convert {\n",
              "      background-color: #E8F0FE;\n",
              "      border: none;\n",
              "      border-radius: 50%;\n",
              "      cursor: pointer;\n",
              "      display: none;\n",
              "      fill: #1967D2;\n",
              "      height: 32px;\n",
              "      padding: 0 0 0 0;\n",
              "      width: 32px;\n",
              "    }\n",
              "\n",
              "    .colab-df-convert:hover {\n",
              "      background-color: #E2EBFA;\n",
              "      box-shadow: 0px 1px 2px rgba(60, 64, 67, 0.3), 0px 1px 3px 1px rgba(60, 64, 67, 0.15);\n",
              "      fill: #174EA6;\n",
              "    }\n",
              "\n",
              "    [theme=dark] .colab-df-convert {\n",
              "      background-color: #3B4455;\n",
              "      fill: #D2E3FC;\n",
              "    }\n",
              "\n",
              "    [theme=dark] .colab-df-convert:hover {\n",
              "      background-color: #434B5C;\n",
              "      box-shadow: 0px 1px 3px 1px rgba(0, 0, 0, 0.15);\n",
              "      filter: drop-shadow(0px 1px 2px rgba(0, 0, 0, 0.3));\n",
              "      fill: #FFFFFF;\n",
              "    }\n",
              "  </style>\n",
              "\n",
              "      <script>\n",
              "        const buttonEl =\n",
              "          document.querySelector('#df-b5f1ab25-3c9e-4d56-b27a-92aef876db5e button.colab-df-convert');\n",
              "        buttonEl.style.display =\n",
              "          google.colab.kernel.accessAllowed ? 'block' : 'none';\n",
              "\n",
              "        async function convertToInteractive(key) {\n",
              "          const element = document.querySelector('#df-b5f1ab25-3c9e-4d56-b27a-92aef876db5e');\n",
              "          const dataTable =\n",
              "            await google.colab.kernel.invokeFunction('convertToInteractive',\n",
              "                                                     [key], {});\n",
              "          if (!dataTable) return;\n",
              "\n",
              "          const docLinkHtml = 'Like what you see? Visit the ' +\n",
              "            '<a target=\"_blank\" href=https://colab.research.google.com/notebooks/data_table.ipynb>data table notebook</a>'\n",
              "            + ' to learn more about interactive tables.';\n",
              "          element.innerHTML = '';\n",
              "          dataTable['output_type'] = 'display_data';\n",
              "          await google.colab.output.renderOutput(dataTable, element);\n",
              "          const docLink = document.createElement('div');\n",
              "          docLink.innerHTML = docLinkHtml;\n",
              "          element.appendChild(docLink);\n",
              "        }\n",
              "      </script>\n",
              "    </div>\n",
              "  </div>\n",
              "  "
            ]
          },
          "metadata": {},
          "execution_count": 117
        }
      ]
    },
    {
      "cell_type": "code",
      "source": [
        "data[\"Date\"]=pd.to_datetime(data[\"Date\"])\n",
        "data.head()"
      ],
      "metadata": {
        "colab": {
          "base_uri": "https://localhost:8080/",
          "height": 206
        },
        "id": "pcvQeNatg2bK",
        "outputId": "b11ae462-c924-4dc5-b306-ccf5a111ef83"
      },
      "execution_count": 121,
      "outputs": [
        {
          "output_type": "execute_result",
          "data": {
            "text/plain": [
              "        Date    Open    High     Low  int_Volume  int_Close\n",
              "0 2012-01-03  325.25  332.83  324.97     7380500     663.59\n",
              "1 2012-01-04  331.27  333.87  329.08     5749400     666.45\n",
              "2 2012-01-05  329.83  330.75  326.89     6590300     657.21\n",
              "3 2012-01-06  328.34  328.77  323.68     5405900     648.24\n",
              "4 2012-01-09  322.04  322.29  309.46    11688800     620.76"
            ],
            "text/html": [
              "\n",
              "  <div id=\"df-0ddb1f6e-b92b-41dd-9f5c-e975ebe101ec\">\n",
              "    <div class=\"colab-df-container\">\n",
              "      <div>\n",
              "<style scoped>\n",
              "    .dataframe tbody tr th:only-of-type {\n",
              "        vertical-align: middle;\n",
              "    }\n",
              "\n",
              "    .dataframe tbody tr th {\n",
              "        vertical-align: top;\n",
              "    }\n",
              "\n",
              "    .dataframe thead th {\n",
              "        text-align: right;\n",
              "    }\n",
              "</style>\n",
              "<table border=\"1\" class=\"dataframe\">\n",
              "  <thead>\n",
              "    <tr style=\"text-align: right;\">\n",
              "      <th></th>\n",
              "      <th>Date</th>\n",
              "      <th>Open</th>\n",
              "      <th>High</th>\n",
              "      <th>Low</th>\n",
              "      <th>int_Volume</th>\n",
              "      <th>int_Close</th>\n",
              "    </tr>\n",
              "  </thead>\n",
              "  <tbody>\n",
              "    <tr>\n",
              "      <th>0</th>\n",
              "      <td>2012-01-03</td>\n",
              "      <td>325.25</td>\n",
              "      <td>332.83</td>\n",
              "      <td>324.97</td>\n",
              "      <td>7380500</td>\n",
              "      <td>663.59</td>\n",
              "    </tr>\n",
              "    <tr>\n",
              "      <th>1</th>\n",
              "      <td>2012-01-04</td>\n",
              "      <td>331.27</td>\n",
              "      <td>333.87</td>\n",
              "      <td>329.08</td>\n",
              "      <td>5749400</td>\n",
              "      <td>666.45</td>\n",
              "    </tr>\n",
              "    <tr>\n",
              "      <th>2</th>\n",
              "      <td>2012-01-05</td>\n",
              "      <td>329.83</td>\n",
              "      <td>330.75</td>\n",
              "      <td>326.89</td>\n",
              "      <td>6590300</td>\n",
              "      <td>657.21</td>\n",
              "    </tr>\n",
              "    <tr>\n",
              "      <th>3</th>\n",
              "      <td>2012-01-06</td>\n",
              "      <td>328.34</td>\n",
              "      <td>328.77</td>\n",
              "      <td>323.68</td>\n",
              "      <td>5405900</td>\n",
              "      <td>648.24</td>\n",
              "    </tr>\n",
              "    <tr>\n",
              "      <th>4</th>\n",
              "      <td>2012-01-09</td>\n",
              "      <td>322.04</td>\n",
              "      <td>322.29</td>\n",
              "      <td>309.46</td>\n",
              "      <td>11688800</td>\n",
              "      <td>620.76</td>\n",
              "    </tr>\n",
              "  </tbody>\n",
              "</table>\n",
              "</div>\n",
              "      <button class=\"colab-df-convert\" onclick=\"convertToInteractive('df-0ddb1f6e-b92b-41dd-9f5c-e975ebe101ec')\"\n",
              "              title=\"Convert this dataframe to an interactive table.\"\n",
              "              style=\"display:none;\">\n",
              "        \n",
              "  <svg xmlns=\"http://www.w3.org/2000/svg\" height=\"24px\"viewBox=\"0 0 24 24\"\n",
              "       width=\"24px\">\n",
              "    <path d=\"M0 0h24v24H0V0z\" fill=\"none\"/>\n",
              "    <path d=\"M18.56 5.44l.94 2.06.94-2.06 2.06-.94-2.06-.94-.94-2.06-.94 2.06-2.06.94zm-11 1L8.5 8.5l.94-2.06 2.06-.94-2.06-.94L8.5 2.5l-.94 2.06-2.06.94zm10 10l.94 2.06.94-2.06 2.06-.94-2.06-.94-.94-2.06-.94 2.06-2.06.94z\"/><path d=\"M17.41 7.96l-1.37-1.37c-.4-.4-.92-.59-1.43-.59-.52 0-1.04.2-1.43.59L10.3 9.45l-7.72 7.72c-.78.78-.78 2.05 0 2.83L4 21.41c.39.39.9.59 1.41.59.51 0 1.02-.2 1.41-.59l7.78-7.78 2.81-2.81c.8-.78.8-2.07 0-2.86zM5.41 20L4 18.59l7.72-7.72 1.47 1.35L5.41 20z\"/>\n",
              "  </svg>\n",
              "      </button>\n",
              "      \n",
              "  <style>\n",
              "    .colab-df-container {\n",
              "      display:flex;\n",
              "      flex-wrap:wrap;\n",
              "      gap: 12px;\n",
              "    }\n",
              "\n",
              "    .colab-df-convert {\n",
              "      background-color: #E8F0FE;\n",
              "      border: none;\n",
              "      border-radius: 50%;\n",
              "      cursor: pointer;\n",
              "      display: none;\n",
              "      fill: #1967D2;\n",
              "      height: 32px;\n",
              "      padding: 0 0 0 0;\n",
              "      width: 32px;\n",
              "    }\n",
              "\n",
              "    .colab-df-convert:hover {\n",
              "      background-color: #E2EBFA;\n",
              "      box-shadow: 0px 1px 2px rgba(60, 64, 67, 0.3), 0px 1px 3px 1px rgba(60, 64, 67, 0.15);\n",
              "      fill: #174EA6;\n",
              "    }\n",
              "\n",
              "    [theme=dark] .colab-df-convert {\n",
              "      background-color: #3B4455;\n",
              "      fill: #D2E3FC;\n",
              "    }\n",
              "\n",
              "    [theme=dark] .colab-df-convert:hover {\n",
              "      background-color: #434B5C;\n",
              "      box-shadow: 0px 1px 3px 1px rgba(0, 0, 0, 0.15);\n",
              "      filter: drop-shadow(0px 1px 2px rgba(0, 0, 0, 0.3));\n",
              "      fill: #FFFFFF;\n",
              "    }\n",
              "  </style>\n",
              "\n",
              "      <script>\n",
              "        const buttonEl =\n",
              "          document.querySelector('#df-0ddb1f6e-b92b-41dd-9f5c-e975ebe101ec button.colab-df-convert');\n",
              "        buttonEl.style.display =\n",
              "          google.colab.kernel.accessAllowed ? 'block' : 'none';\n",
              "\n",
              "        async function convertToInteractive(key) {\n",
              "          const element = document.querySelector('#df-0ddb1f6e-b92b-41dd-9f5c-e975ebe101ec');\n",
              "          const dataTable =\n",
              "            await google.colab.kernel.invokeFunction('convertToInteractive',\n",
              "                                                     [key], {});\n",
              "          if (!dataTable) return;\n",
              "\n",
              "          const docLinkHtml = 'Like what you see? Visit the ' +\n",
              "            '<a target=\"_blank\" href=https://colab.research.google.com/notebooks/data_table.ipynb>data table notebook</a>'\n",
              "            + ' to learn more about interactive tables.';\n",
              "          element.innerHTML = '';\n",
              "          dataTable['output_type'] = 'display_data';\n",
              "          await google.colab.output.renderOutput(dataTable, element);\n",
              "          const docLink = document.createElement('div');\n",
              "          docLink.innerHTML = docLinkHtml;\n",
              "          element.appendChild(docLink);\n",
              "        }\n",
              "      </script>\n",
              "    </div>\n",
              "  </div>\n",
              "  "
            ]
          },
          "metadata": {},
          "execution_count": 121
        }
      ]
    },
    {
      "cell_type": "markdown",
      "source": [
        "Time is also converted into it's proper format. Then internal values such as Days, Year and Months have been extracted out for further analysis and to make better models and to get better accuracy."
      ],
      "metadata": {
        "id": "D4m8aUuiC3WW"
      }
    },
    {
      "cell_type": "code",
      "source": [
        "data[\"Year\"]=data[\"Date\"].dt.year\n",
        "data[\"Month\"]=data[\"Date\"].dt.month\n",
        "data[\"Day\"]=data[\"Date\"].dt.day"
      ],
      "metadata": {
        "id": "DLdxwajPg_H8"
      },
      "execution_count": 124,
      "outputs": []
    },
    {
      "cell_type": "code",
      "source": [
        "data.head()\n",
        "data.drop(\"Date\",axis=1,inplace=True)"
      ],
      "metadata": {
        "id": "yICD99SZhMdO"
      },
      "execution_count": 127,
      "outputs": []
    },
    {
      "cell_type": "code",
      "source": [
        "data.head()"
      ],
      "metadata": {
        "colab": {
          "base_uri": "https://localhost:8080/",
          "height": 206
        },
        "id": "d8HcowighN5R",
        "outputId": "063f013a-c12d-4920-aae5-a82ab381f961"
      },
      "execution_count": 130,
      "outputs": [
        {
          "output_type": "execute_result",
          "data": {
            "text/plain": [
              "     Open    High     Low  int_Volume  int_Close  Year  Month  Day\n",
              "0  325.25  332.83  324.97     7380500     663.59  2012      1    3\n",
              "1  331.27  333.87  329.08     5749400     666.45  2012      1    4\n",
              "2  329.83  330.75  326.89     6590300     657.21  2012      1    5\n",
              "3  328.34  328.77  323.68     5405900     648.24  2012      1    6\n",
              "4  322.04  322.29  309.46    11688800     620.76  2012      1    9"
            ],
            "text/html": [
              "\n",
              "  <div id=\"df-7ed04aa4-4945-493e-98c8-f3eace56e20b\">\n",
              "    <div class=\"colab-df-container\">\n",
              "      <div>\n",
              "<style scoped>\n",
              "    .dataframe tbody tr th:only-of-type {\n",
              "        vertical-align: middle;\n",
              "    }\n",
              "\n",
              "    .dataframe tbody tr th {\n",
              "        vertical-align: top;\n",
              "    }\n",
              "\n",
              "    .dataframe thead th {\n",
              "        text-align: right;\n",
              "    }\n",
              "</style>\n",
              "<table border=\"1\" class=\"dataframe\">\n",
              "  <thead>\n",
              "    <tr style=\"text-align: right;\">\n",
              "      <th></th>\n",
              "      <th>Open</th>\n",
              "      <th>High</th>\n",
              "      <th>Low</th>\n",
              "      <th>int_Volume</th>\n",
              "      <th>int_Close</th>\n",
              "      <th>Year</th>\n",
              "      <th>Month</th>\n",
              "      <th>Day</th>\n",
              "    </tr>\n",
              "  </thead>\n",
              "  <tbody>\n",
              "    <tr>\n",
              "      <th>0</th>\n",
              "      <td>325.25</td>\n",
              "      <td>332.83</td>\n",
              "      <td>324.97</td>\n",
              "      <td>7380500</td>\n",
              "      <td>663.59</td>\n",
              "      <td>2012</td>\n",
              "      <td>1</td>\n",
              "      <td>3</td>\n",
              "    </tr>\n",
              "    <tr>\n",
              "      <th>1</th>\n",
              "      <td>331.27</td>\n",
              "      <td>333.87</td>\n",
              "      <td>329.08</td>\n",
              "      <td>5749400</td>\n",
              "      <td>666.45</td>\n",
              "      <td>2012</td>\n",
              "      <td>1</td>\n",
              "      <td>4</td>\n",
              "    </tr>\n",
              "    <tr>\n",
              "      <th>2</th>\n",
              "      <td>329.83</td>\n",
              "      <td>330.75</td>\n",
              "      <td>326.89</td>\n",
              "      <td>6590300</td>\n",
              "      <td>657.21</td>\n",
              "      <td>2012</td>\n",
              "      <td>1</td>\n",
              "      <td>5</td>\n",
              "    </tr>\n",
              "    <tr>\n",
              "      <th>3</th>\n",
              "      <td>328.34</td>\n",
              "      <td>328.77</td>\n",
              "      <td>323.68</td>\n",
              "      <td>5405900</td>\n",
              "      <td>648.24</td>\n",
              "      <td>2012</td>\n",
              "      <td>1</td>\n",
              "      <td>6</td>\n",
              "    </tr>\n",
              "    <tr>\n",
              "      <th>4</th>\n",
              "      <td>322.04</td>\n",
              "      <td>322.29</td>\n",
              "      <td>309.46</td>\n",
              "      <td>11688800</td>\n",
              "      <td>620.76</td>\n",
              "      <td>2012</td>\n",
              "      <td>1</td>\n",
              "      <td>9</td>\n",
              "    </tr>\n",
              "  </tbody>\n",
              "</table>\n",
              "</div>\n",
              "      <button class=\"colab-df-convert\" onclick=\"convertToInteractive('df-7ed04aa4-4945-493e-98c8-f3eace56e20b')\"\n",
              "              title=\"Convert this dataframe to an interactive table.\"\n",
              "              style=\"display:none;\">\n",
              "        \n",
              "  <svg xmlns=\"http://www.w3.org/2000/svg\" height=\"24px\"viewBox=\"0 0 24 24\"\n",
              "       width=\"24px\">\n",
              "    <path d=\"M0 0h24v24H0V0z\" fill=\"none\"/>\n",
              "    <path d=\"M18.56 5.44l.94 2.06.94-2.06 2.06-.94-2.06-.94-.94-2.06-.94 2.06-2.06.94zm-11 1L8.5 8.5l.94-2.06 2.06-.94-2.06-.94L8.5 2.5l-.94 2.06-2.06.94zm10 10l.94 2.06.94-2.06 2.06-.94-2.06-.94-.94-2.06-.94 2.06-2.06.94z\"/><path d=\"M17.41 7.96l-1.37-1.37c-.4-.4-.92-.59-1.43-.59-.52 0-1.04.2-1.43.59L10.3 9.45l-7.72 7.72c-.78.78-.78 2.05 0 2.83L4 21.41c.39.39.9.59 1.41.59.51 0 1.02-.2 1.41-.59l7.78-7.78 2.81-2.81c.8-.78.8-2.07 0-2.86zM5.41 20L4 18.59l7.72-7.72 1.47 1.35L5.41 20z\"/>\n",
              "  </svg>\n",
              "      </button>\n",
              "      \n",
              "  <style>\n",
              "    .colab-df-container {\n",
              "      display:flex;\n",
              "      flex-wrap:wrap;\n",
              "      gap: 12px;\n",
              "    }\n",
              "\n",
              "    .colab-df-convert {\n",
              "      background-color: #E8F0FE;\n",
              "      border: none;\n",
              "      border-radius: 50%;\n",
              "      cursor: pointer;\n",
              "      display: none;\n",
              "      fill: #1967D2;\n",
              "      height: 32px;\n",
              "      padding: 0 0 0 0;\n",
              "      width: 32px;\n",
              "    }\n",
              "\n",
              "    .colab-df-convert:hover {\n",
              "      background-color: #E2EBFA;\n",
              "      box-shadow: 0px 1px 2px rgba(60, 64, 67, 0.3), 0px 1px 3px 1px rgba(60, 64, 67, 0.15);\n",
              "      fill: #174EA6;\n",
              "    }\n",
              "\n",
              "    [theme=dark] .colab-df-convert {\n",
              "      background-color: #3B4455;\n",
              "      fill: #D2E3FC;\n",
              "    }\n",
              "\n",
              "    [theme=dark] .colab-df-convert:hover {\n",
              "      background-color: #434B5C;\n",
              "      box-shadow: 0px 1px 3px 1px rgba(0, 0, 0, 0.15);\n",
              "      filter: drop-shadow(0px 1px 2px rgba(0, 0, 0, 0.3));\n",
              "      fill: #FFFFFF;\n",
              "    }\n",
              "  </style>\n",
              "\n",
              "      <script>\n",
              "        const buttonEl =\n",
              "          document.querySelector('#df-7ed04aa4-4945-493e-98c8-f3eace56e20b button.colab-df-convert');\n",
              "        buttonEl.style.display =\n",
              "          google.colab.kernel.accessAllowed ? 'block' : 'none';\n",
              "\n",
              "        async function convertToInteractive(key) {\n",
              "          const element = document.querySelector('#df-7ed04aa4-4945-493e-98c8-f3eace56e20b');\n",
              "          const dataTable =\n",
              "            await google.colab.kernel.invokeFunction('convertToInteractive',\n",
              "                                                     [key], {});\n",
              "          if (!dataTable) return;\n",
              "\n",
              "          const docLinkHtml = 'Like what you see? Visit the ' +\n",
              "            '<a target=\"_blank\" href=https://colab.research.google.com/notebooks/data_table.ipynb>data table notebook</a>'\n",
              "            + ' to learn more about interactive tables.';\n",
              "          element.innerHTML = '';\n",
              "          dataTable['output_type'] = 'display_data';\n",
              "          await google.colab.output.renderOutput(dataTable, element);\n",
              "          const docLink = document.createElement('div');\n",
              "          docLink.innerHTML = docLinkHtml;\n",
              "          element.appendChild(docLink);\n",
              "        }\n",
              "      </script>\n",
              "    </div>\n",
              "  </div>\n",
              "  "
            ]
          },
          "metadata": {},
          "execution_count": 130
        }
      ]
    },
    {
      "cell_type": "code",
      "source": [
        "plt.figure(figsize=(20,7))\n",
        "sns.heatmap(data.corr(),annot=True);"
      ],
      "metadata": {
        "colab": {
          "base_uri": "https://localhost:8080/",
          "height": 433
        },
        "id": "WMlYOufrhc3Y",
        "outputId": "eddc4671-1a74-4e79-eff2-c8e79dafd898"
      },
      "execution_count": 142,
      "outputs": [
        {
          "output_type": "display_data",
          "data": {
            "text/plain": [
              "<Figure size 1440x504 with 2 Axes>"
            ],
            "image/png": "[encoded data removed]"
          },
          "metadata": {
            "needs_background": "light"
          }
        }
      ]
    },
    {
      "cell_type": "code",
      "source": [
        "plt.figure(figsize=(20,7))\n",
        "#plt.plot(data[\"int_Close\"])\n",
        "#plt.plot(data[\"Open\"])\n",
        "plt.plot(data[\"High\"]);"
      ],
      "metadata": {
        "colab": {
          "base_uri": "https://localhost:8080/",
          "height": 428
        },
        "id": "WbOe3aZUmfhg",
        "outputId": "ee943cfe-ace0-4a93-8c7c-f8e37aa4b801"
      },
      "execution_count": 220,
      "outputs": [
        {
          "output_type": "display_data",
          "data": {
            "text/plain": [
              "<Figure size 1440x504 with 1 Axes>"
            ],
            "image/png": "[encoded data removed]"
          },
          "metadata": {
            "needs_background": "light"
          }
        }
      ]
    },
    {
      "cell_type": "code",
      "source": [
        "X=data.loc[:,[\"Open\",\"int_Close\"]]\n",
        "y=data[\"High\"]\n",
        "y"
      ],
      "metadata": {
        "colab": {
          "base_uri": "https://localhost:8080/"
        },
        "id": "hNp7X8rSoHaw",
        "outputId": "721fbda0-2b44-48a5-fb95-cb4194149573"
      },
      "execution_count": 194,
      "outputs": [
        {
          "output_type": "execute_result",
          "data": {
            "text/plain": [
              "0       332.83\n",
              "1       333.87\n",
              "2       330.75\n",
              "3       328.77\n",
              "4       322.29\n",
              "         ...  \n",
              "1253    792.74\n",
              "1254    797.86\n",
              "1255    794.23\n",
              "1256    785.93\n",
              "1257    782.78\n",
              "Name: High, Length: 1258, dtype: float64"
            ]
          },
          "metadata": {},
          "execution_count": 194
        }
      ]
    },
    {
      "cell_type": "markdown",
      "source": [
        "For the very first execution I have picked Open and Close or int_Close feature becuase they are quite heavily correrelated."
      ],
      "metadata": {
        "id": "bYnALApzEypE"
      }
    },
    {
      "cell_type": "code",
      "source": [
        "X_train, X_test, y_train, y_test = train_test_split(X, y, test_size=0.2, random_state=42)"
      ],
      "metadata": {
        "id": "bWLa7V5boVIi"
      },
      "execution_count": 195,
      "outputs": []
    },
    {
      "cell_type": "code",
      "source": [
        "#Standardizing the Data\n",
        "scaling=StandardScaler()\n",
        "X_train_sca=pd.DataFrame(scaling.fit_transform(X_train),columns=X_train.columns)\n",
        "X_test_sca=pd.DataFrame(scaling.fit_transform(X_test),columns=X_train.columns)"
      ],
      "metadata": {
        "id": "APROrya9oham"
      },
      "execution_count": 196,
      "outputs": []
    },
    {
      "cell_type": "markdown",
      "source": [
        "From the below code, Artificial Neural Network is executed."
      ],
      "metadata": {
        "id": "nyDueG81I7mq"
      }
    },
    {
      "cell_type": "code",
      "source": [
        "model=Sequential()\n",
        "\n",
        "#First Layer\n",
        "model.add(Dense(16,activation=\"relu\",input_dim=2))\n",
        "\n",
        "#Second Layer\n",
        "model.add(Dense(units=32,activation=\"relu\"))\n",
        "\n",
        "#Third Layer\n",
        "model.add(Dense(units=32,activation=\"relu\"))\n",
        "\n",
        "#Output Layer\n",
        "model.add(Dense(units=1))\n",
        "\n",
        "#Compiling the ANN\n",
        "model.compile(optimizer=\"adam\",loss=\"mean_squared_error\",metrics=['mae','mse','mape'])\n",
        "\n",
        "#Fitting the ANN to the training Dataset\n",
        "model.fit(X_train_sca,y_train,batch_size=10,epochs=100)"
      ],
      "metadata": {
        "colab": {
          "base_uri": "https://localhost:8080/"
        },
        "id": "JHwG1Sqsoz9f",
        "outputId": "3d598dc2-9c88-4965-f9ce-e06007ab0d9b"
      },
      "execution_count": 197,
      "outputs": [
        {
          "output_type": "stream",
          "name": "stdout",
          "text": [
            "Epoch 1/100\n",
            "101/101 [==============================] - 1s 2ms/step - loss: 310444.9688 - mae: 535.6136 - mse: 310444.9688 - mape: 99.0662\n",
            "Epoch 2/100\n",
            "101/101 [==============================] - 0s 2ms/step - loss: 223848.7656 - mae: 438.1168 - mse: 223848.7656 - mape: 78.8496\n",
            "Epoch 3/100\n",
            "101/101 [==============================] - 0s 2ms/step - loss: 47622.2812 - mae: 179.9375 - mse: 47622.2852 - mape: 32.2758\n",
            "Epoch 4/100\n",
            "101/101 [==============================] - 0s 2ms/step - loss: 7745.7578 - mae: 69.9174 - mse: 7745.7588 - mape: 15.4174\n",
            "Epoch 5/100\n",
            "101/101 [==============================] - 0s 2ms/step - loss: 4573.4331 - mae: 49.3694 - mse: 4573.4331 - mape: 11.5152\n",
            "Epoch 6/100\n",
            "101/101 [==============================] - 0s 2ms/step - loss: 3528.2378 - mae: 42.1984 - mse: 3528.2378 - mape: 9.9192\n",
            "Epoch 7/100\n",
            "101/101 [==============================] - 0s 2ms/step - loss: 2713.4209 - mae: 36.6829 - mse: 2713.4209 - mape: 8.6555\n",
            "Epoch 8/100\n",
            "101/101 [==============================] - 0s 2ms/step - loss: 2125.1941 - mae: 32.4021 - mse: 2125.1941 - mape: 7.6890\n",
            "Epoch 9/100\n",
            "101/101 [==============================] - 0s 2ms/step - loss: 1721.4342 - mae: 29.2952 - mse: 1721.4342 - mape: 6.9082\n",
            "Epoch 10/100\n",
            "101/101 [==============================] - 0s 2ms/step - loss: 1389.1675 - mae: 26.3773 - mse: 1389.1675 - mape: 6.2301\n",
            "Epoch 11/100\n",
            "101/101 [==============================] - 0s 2ms/step - loss: 1125.0830 - mae: 23.7761 - mse: 1125.0830 - mape: 5.6177\n",
            "Epoch 12/100\n",
            "101/101 [==============================] - 0s 2ms/step - loss: 910.2197 - mae: 21.6695 - mse: 910.2197 - mape: 5.0657\n",
            "Epoch 13/100\n",
            "101/101 [==============================] - 0s 2ms/step - loss: 726.8329 - mae: 19.4765 - mse: 726.8329 - mape: 4.5332\n",
            "Epoch 14/100\n",
            "101/101 [==============================] - 0s 2ms/step - loss: 577.8085 - mae: 17.6475 - mse: 577.8085 - mape: 4.0699\n",
            "Epoch 15/100\n",
            "101/101 [==============================] - 0s 2ms/step - loss: 457.0094 - mae: 15.7463 - mse: 457.0094 - mape: 3.5881\n",
            "Epoch 16/100\n",
            "101/101 [==============================] - 0s 2ms/step - loss: 371.2595 - mae: 14.4574 - mse: 371.2595 - mape: 3.2811\n",
            "Epoch 17/100\n",
            "101/101 [==============================] - 0s 2ms/step - loss: 309.9661 - mae: 13.3585 - mse: 309.9661 - mape: 3.0065\n",
            "Epoch 18/100\n",
            "101/101 [==============================] - 0s 2ms/step - loss: 259.3454 - mae: 12.3961 - mse: 259.3454 - mape: 2.7825\n",
            "Epoch 19/100\n",
            "101/101 [==============================] - 0s 2ms/step - loss: 223.3013 - mae: 11.5943 - mse: 223.3013 - mape: 2.5609\n",
            "Epoch 20/100\n",
            "101/101 [==============================] - 0s 2ms/step - loss: 188.8836 - mae: 10.7319 - mse: 188.8836 - mape: 2.3506\n",
            "Epoch 21/100\n",
            "101/101 [==============================] - 0s 2ms/step - loss: 162.3009 - mae: 10.1052 - mse: 162.3009 - mape: 2.2098\n",
            "Epoch 22/100\n",
            "101/101 [==============================] - 0s 2ms/step - loss: 139.6600 - mae: 9.4115 - mse: 139.6600 - mape: 2.0259\n",
            "Epoch 23/100\n",
            "101/101 [==============================] - 0s 2ms/step - loss: 122.5011 - mae: 8.8852 - mse: 122.5011 - mape: 1.9044\n",
            "Epoch 24/100\n",
            "101/101 [==============================] - 0s 2ms/step - loss: 112.2132 - mae: 8.4887 - mse: 112.2132 - mape: 1.7956\n",
            "Epoch 25/100\n",
            "101/101 [==============================] - 0s 2ms/step - loss: 102.0536 - mae: 8.1200 - mse: 102.0536 - mape: 1.7045\n",
            "Epoch 26/100\n",
            "101/101 [==============================] - 0s 2ms/step - loss: 93.5496 - mae: 7.8290 - mse: 93.5496 - mape: 1.6339\n",
            "Epoch 27/100\n",
            "101/101 [==============================] - 0s 2ms/step - loss: 85.8791 - mae: 7.4650 - mse: 85.8791 - mape: 1.5396\n",
            "Epoch 28/100\n",
            "101/101 [==============================] - 0s 2ms/step - loss: 80.4848 - mae: 7.2213 - mse: 80.4849 - mape: 1.4786\n",
            "Epoch 29/100\n",
            "101/101 [==============================] - 0s 2ms/step - loss: 76.7769 - mae: 7.0176 - mse: 76.7769 - mape: 1.4229\n",
            "Epoch 30/100\n",
            "101/101 [==============================] - 0s 2ms/step - loss: 71.5127 - mae: 6.7824 - mse: 71.5127 - mape: 1.3638\n",
            "Epoch 31/100\n",
            "101/101 [==============================] - 0s 2ms/step - loss: 67.7059 - mae: 6.5592 - mse: 67.7059 - mape: 1.3065\n",
            "Epoch 32/100\n",
            "101/101 [==============================] - 0s 2ms/step - loss: 64.1251 - mae: 6.3936 - mse: 64.1251 - mape: 1.2724\n",
            "Epoch 33/100\n",
            "101/101 [==============================] - 0s 2ms/step - loss: 63.2642 - mae: 6.3082 - mse: 63.2642 - mape: 1.2477\n",
            "Epoch 34/100\n",
            "101/101 [==============================] - 0s 2ms/step - loss: 60.1139 - mae: 6.1586 - mse: 60.1139 - mape: 1.2052\n",
            "Epoch 35/100\n",
            "101/101 [==============================] - 0s 2ms/step - loss: 58.6754 - mae: 6.0562 - mse: 58.6754 - mape: 1.1770\n",
            "Epoch 36/100\n",
            "101/101 [==============================] - 0s 2ms/step - loss: 56.3319 - mae: 5.9321 - mse: 56.3319 - mape: 1.1540\n",
            "Epoch 37/100\n",
            "101/101 [==============================] - 0s 2ms/step - loss: 55.2255 - mae: 5.8010 - mse: 55.2255 - mape: 1.1148\n",
            "Epoch 38/100\n",
            "101/101 [==============================] - 0s 2ms/step - loss: 54.2180 - mae: 5.7505 - mse: 54.2180 - mape: 1.1095\n",
            "Epoch 39/100\n",
            "101/101 [==============================] - 0s 2ms/step - loss: 52.9040 - mae: 5.6027 - mse: 52.9040 - mape: 1.0690\n",
            "Epoch 40/100\n",
            "101/101 [==============================] - 0s 2ms/step - loss: 51.7699 - mae: 5.5628 - mse: 51.7699 - mape: 1.0620\n",
            "Epoch 41/100\n",
            "101/101 [==============================] - 0s 2ms/step - loss: 51.2953 - mae: 5.5039 - mse: 51.2953 - mape: 1.0420\n",
            "Epoch 42/100\n",
            "101/101 [==============================] - 0s 2ms/step - loss: 50.3396 - mae: 5.4667 - mse: 50.3396 - mape: 1.0352\n",
            "Epoch 43/100\n",
            "101/101 [==============================] - 0s 2ms/step - loss: 49.7148 - mae: 5.4046 - mse: 49.7148 - mape: 1.0153\n",
            "Epoch 44/100\n",
            "101/101 [==============================] - 0s 2ms/step - loss: 50.0876 - mae: 5.3847 - mse: 50.0876 - mape: 1.0103\n",
            "Epoch 45/100\n",
            "101/101 [==============================] - 0s 2ms/step - loss: 49.2627 - mae: 5.3004 - mse: 49.2627 - mape: 0.9953\n",
            "Epoch 46/100\n",
            "101/101 [==============================] - 0s 2ms/step - loss: 47.6192 - mae: 5.1520 - mse: 47.6192 - mape: 0.9533\n",
            "Epoch 47/100\n",
            "101/101 [==============================] - 0s 2ms/step - loss: 45.9511 - mae: 5.0495 - mse: 45.9511 - mape: 0.9419\n",
            "Epoch 48/100\n",
            "101/101 [==============================] - 0s 2ms/step - loss: 46.3595 - mae: 5.0374 - mse: 46.3595 - mape: 0.9370\n",
            "Epoch 49/100\n",
            "101/101 [==============================] - 0s 2ms/step - loss: 44.6293 - mae: 4.9985 - mse: 44.6293 - mape: 0.9247\n",
            "Epoch 50/100\n",
            "101/101 [==============================] - 0s 2ms/step - loss: 45.4321 - mae: 5.0366 - mse: 45.4321 - mape: 0.9301\n",
            "Epoch 51/100\n",
            "101/101 [==============================] - 0s 2ms/step - loss: 45.4086 - mae: 4.9671 - mse: 45.4086 - mape: 0.9091\n",
            "Epoch 52/100\n",
            "101/101 [==============================] - 0s 2ms/step - loss: 42.2566 - mae: 4.7468 - mse: 42.2566 - mape: 0.8721\n",
            "Epoch 53/100\n",
            "101/101 [==============================] - 0s 2ms/step - loss: 44.5048 - mae: 4.9152 - mse: 44.5048 - mape: 0.9022\n",
            "Epoch 54/100\n",
            "101/101 [==============================] - 0s 2ms/step - loss: 42.0388 - mae: 4.7036 - mse: 42.0388 - mape: 0.8556\n",
            "Epoch 55/100\n",
            "101/101 [==============================] - 0s 2ms/step - loss: 41.9036 - mae: 4.6965 - mse: 41.9036 - mape: 0.8610\n",
            "Epoch 56/100\n",
            "101/101 [==============================] - 0s 2ms/step - loss: 40.1156 - mae: 4.5745 - mse: 40.1156 - mape: 0.8310\n",
            "Epoch 57/100\n",
            "101/101 [==============================] - 0s 2ms/step - loss: 39.5265 - mae: 4.5809 - mse: 39.5265 - mape: 0.8354\n",
            "Epoch 58/100\n",
            "101/101 [==============================] - 0s 3ms/step - loss: 40.7684 - mae: 4.6632 - mse: 40.7684 - mape: 0.8478\n",
            "Epoch 59/100\n",
            "101/101 [==============================] - 0s 5ms/step - loss: 39.4553 - mae: 4.5233 - mse: 39.4553 - mape: 0.8191\n",
            "Epoch 60/100\n",
            "101/101 [==============================] - 0s 4ms/step - loss: 38.6713 - mae: 4.4180 - mse: 38.6713 - mape: 0.7983\n",
            "Epoch 61/100\n",
            "101/101 [==============================] - 0s 4ms/step - loss: 39.2279 - mae: 4.4839 - mse: 39.2279 - mape: 0.8076\n",
            "Epoch 62/100\n",
            "101/101 [==============================] - 0s 3ms/step - loss: 40.0471 - mae: 4.4770 - mse: 40.0471 - mape: 0.8061\n",
            "Epoch 63/100\n",
            "101/101 [==============================] - 0s 5ms/step - loss: 35.0049 - mae: 4.2358 - mse: 35.0049 - mape: 0.7570\n",
            "Epoch 64/100\n",
            "101/101 [==============================] - 0s 5ms/step - loss: 35.2259 - mae: 4.2275 - mse: 35.2259 - mape: 0.7623\n",
            "Epoch 65/100\n",
            "101/101 [==============================] - 0s 5ms/step - loss: 38.4591 - mae: 4.3642 - mse: 38.4591 - mape: 0.7762\n",
            "Epoch 66/100\n",
            "101/101 [==============================] - 0s 2ms/step - loss: 34.4680 - mae: 4.1948 - mse: 34.4680 - mape: 0.7524\n",
            "Epoch 67/100\n",
            "101/101 [==============================] - 0s 2ms/step - loss: 33.2342 - mae: 4.0695 - mse: 33.2342 - mape: 0.7299\n",
            "Epoch 68/100\n",
            "101/101 [==============================] - 0s 2ms/step - loss: 39.9987 - mae: 4.5621 - mse: 39.9987 - mape: 0.8267\n",
            "Epoch 69/100\n",
            "101/101 [==============================] - 0s 2ms/step - loss: 35.1969 - mae: 4.2882 - mse: 35.1969 - mape: 0.7685\n",
            "Epoch 70/100\n",
            "101/101 [==============================] - 0s 2ms/step - loss: 31.5185 - mae: 3.9376 - mse: 31.5185 - mape: 0.6956\n",
            "Epoch 71/100\n",
            "101/101 [==============================] - 0s 2ms/step - loss: 31.3645 - mae: 3.9155 - mse: 31.3645 - mape: 0.6917\n",
            "Epoch 72/100\n",
            "101/101 [==============================] - 0s 2ms/step - loss: 33.9205 - mae: 4.0946 - mse: 33.9205 - mape: 0.7221\n",
            "Epoch 73/100\n",
            "101/101 [==============================] - 0s 2ms/step - loss: 32.6428 - mae: 4.1089 - mse: 32.6428 - mape: 0.7437\n",
            "Epoch 74/100\n",
            "101/101 [==============================] - 0s 2ms/step - loss: 31.5509 - mae: 4.0054 - mse: 31.5509 - mape: 0.7158\n",
            "Epoch 75/100\n",
            "101/101 [==============================] - 0s 2ms/step - loss: 31.6384 - mae: 3.9547 - mse: 31.6383 - mape: 0.7003\n",
            "Epoch 76/100\n",
            "101/101 [==============================] - 0s 2ms/step - loss: 28.6969 - mae: 3.7637 - mse: 28.6969 - mape: 0.6616\n",
            "Epoch 77/100\n",
            "101/101 [==============================] - 0s 2ms/step - loss: 30.9852 - mae: 3.9263 - mse: 30.9852 - mape: 0.6982\n",
            "Epoch 78/100\n",
            "101/101 [==============================] - 0s 2ms/step - loss: 31.8232 - mae: 3.9375 - mse: 31.8232 - mape: 0.6988\n",
            "Epoch 79/100\n",
            "101/101 [==============================] - 0s 2ms/step - loss: 32.4123 - mae: 4.0909 - mse: 32.4123 - mape: 0.7329\n",
            "Epoch 80/100\n",
            "101/101 [==============================] - 0s 2ms/step - loss: 30.6133 - mae: 3.9433 - mse: 30.6133 - mape: 0.7008\n",
            "Epoch 81/100\n",
            "101/101 [==============================] - 0s 2ms/step - loss: 27.8862 - mae: 3.7175 - mse: 27.8862 - mape: 0.6546\n",
            "Epoch 82/100\n",
            "101/101 [==============================] - 0s 2ms/step - loss: 29.0085 - mae: 3.7903 - mse: 29.0085 - mape: 0.6782\n",
            "Epoch 83/100\n",
            "101/101 [==============================] - 0s 2ms/step - loss: 29.3360 - mae: 3.8895 - mse: 29.3360 - mape: 0.6922\n",
            "Epoch 84/100\n",
            "101/101 [==============================] - 0s 2ms/step - loss: 28.0005 - mae: 3.7551 - mse: 28.0005 - mape: 0.6731\n",
            "Epoch 85/100\n",
            "101/101 [==============================] - 0s 2ms/step - loss: 28.9981 - mae: 3.8988 - mse: 28.9981 - mape: 0.6990\n",
            "Epoch 86/100\n",
            "101/101 [==============================] - 0s 2ms/step - loss: 27.0887 - mae: 3.6883 - mse: 27.0887 - mape: 0.6551\n",
            "Epoch 87/100\n",
            "101/101 [==============================] - 0s 2ms/step - loss: 28.5172 - mae: 3.7775 - mse: 28.5172 - mape: 0.6640\n",
            "Epoch 88/100\n",
            "101/101 [==============================] - 0s 2ms/step - loss: 25.8781 - mae: 3.6322 - mse: 25.8781 - mape: 0.6493\n",
            "Epoch 89/100\n",
            "101/101 [==============================] - 0s 2ms/step - loss: 26.2582 - mae: 3.6666 - mse: 26.2582 - mape: 0.6567\n",
            "Epoch 90/100\n",
            "101/101 [==============================] - 0s 2ms/step - loss: 28.8304 - mae: 3.9200 - mse: 28.8304 - mape: 0.7041\n",
            "Epoch 91/100\n",
            "101/101 [==============================] - 0s 2ms/step - loss: 27.7598 - mae: 3.7956 - mse: 27.7598 - mape: 0.6835\n",
            "Epoch 92/100\n",
            "101/101 [==============================] - 0s 2ms/step - loss: 24.2739 - mae: 3.5004 - mse: 24.2739 - mape: 0.6275\n",
            "Epoch 93/100\n",
            "101/101 [==============================] - 0s 2ms/step - loss: 23.5182 - mae: 3.4266 - mse: 23.5182 - mape: 0.6116\n",
            "Epoch 94/100\n",
            "101/101 [==============================] - 0s 2ms/step - loss: 24.2461 - mae: 3.5061 - mse: 24.2461 - mape: 0.6226\n",
            "Epoch 95/100\n",
            "101/101 [==============================] - 0s 2ms/step - loss: 25.5647 - mae: 3.6442 - mse: 25.5647 - mape: 0.6544\n",
            "Epoch 96/100\n",
            "101/101 [==============================] - 0s 2ms/step - loss: 22.9238 - mae: 3.3943 - mse: 22.9238 - mape: 0.6052\n",
            "Epoch 97/100\n",
            "101/101 [==============================] - 0s 2ms/step - loss: 23.3513 - mae: 3.3885 - mse: 23.3513 - mape: 0.6042\n",
            "Epoch 98/100\n",
            "101/101 [==============================] - 0s 2ms/step - loss: 22.4883 - mae: 3.3676 - mse: 22.4883 - mape: 0.6015\n",
            "Epoch 99/100\n",
            "101/101 [==============================] - 0s 2ms/step - loss: 23.4352 - mae: 3.4318 - mse: 23.4352 - mape: 0.6134\n",
            "Epoch 100/100\n",
            "101/101 [==============================] - 0s 2ms/step - loss: 21.3654 - mae: 3.2886 - mse: 21.3654 - mape: 0.5871\n"
          ]
        },
        {
          "output_type": "execute_result",
          "data": {
            "text/plain": [
              "<keras.callbacks.History at 0x7f23fa0c4fd0>"
            ]
          },
          "metadata": {},
          "execution_count": 197
        }
      ]
    },
    {
      "cell_type": "code",
      "source": [
        "model.evaluate(X_test_sca,y_test)"
      ],
      "metadata": {
        "colab": {
          "base_uri": "https://localhost:8080/"
        },
        "id": "27jcMhlJpCOX",
        "outputId": "1876c432-dbab-4cc5-eed6-7658be5faaab"
      },
      "execution_count": 198,
      "outputs": [
        {
          "output_type": "stream",
          "name": "stdout",
          "text": [
            "8/8 [==============================] - 0s 4ms/step - loss: 216.3451 - mae: 10.9333 - mse: 216.3451 - mape: 1.8030\n"
          ]
        },
        {
          "output_type": "execute_result",
          "data": {
            "text/plain": [
              "[216.34512329101562, 10.93325424194336, 216.34512329101562, 1.8029556274414062]"
            ]
          },
          "metadata": {},
          "execution_count": 198
        }
      ]
    },
    {
      "cell_type": "code",
      "source": [
        "y_pred=model.predict(X_test_sca)"
      ],
      "metadata": {
        "colab": {
          "base_uri": "https://localhost:8080/"
        },
        "id": "B4rc6EiR6rYA",
        "outputId": "6c5d481b-a292-4082-cb27-4249813fa990"
      },
      "execution_count": 199,
      "outputs": [
        {
          "output_type": "stream",
          "name": "stdout",
          "text": [
            "8/8 [==============================] - 0s 2ms/step\n"
          ]
        }
      ]
    },
    {
      "cell_type": "code",
      "source": [
        "y_test"
      ],
      "metadata": {
        "colab": {
          "base_uri": "https://localhost:8080/"
        },
        "id": "ack86LmV6tmm",
        "outputId": "29b83390-3d08-4cbb-9fd7-dfc0fb202f56"
      },
      "execution_count": 200,
      "outputs": [
        {
          "output_type": "execute_result",
          "data": {
            "text/plain": [
              "561     564.88\n",
              "101     298.45\n",
              "51      311.79\n",
              "63      322.77\n",
              "1073    745.00\n",
              "         ...  \n",
              "156     335.87\n",
              "549     601.67\n",
              "398     451.07\n",
              "243     360.97\n",
              "834     553.68\n",
              "Name: High, Length: 252, dtype: float64"
            ]
          },
          "metadata": {},
          "execution_count": 200
        }
      ]
    },
    {
      "cell_type": "code",
      "source": [
        "r2=r2_score(y_test,y_pred)\n",
        "r2"
      ],
      "metadata": {
        "colab": {
          "base_uri": "https://localhost:8080/"
        },
        "id": "ne56QY5R6vfG",
        "outputId": "55f308d6-7a25-4af1-8993-b15e8b5e19d8"
      },
      "execution_count": 201,
      "outputs": [
        {
          "output_type": "execute_result",
          "data": {
            "text/plain": [
              "0.9906319467019463"
            ]
          },
          "metadata": {},
          "execution_count": 201
        }
      ]
    },
    {
      "cell_type": "code",
      "source": [
        "def adjusted_r2(r2,X_train):\n",
        "    return 1-((1-r2**2)*(X_train.shape[0]-1)/(X_train.shape[0]-X_train.shape[1]-1))"
      ],
      "metadata": {
        "id": "SAnMJi3a6yc2"
      },
      "execution_count": 202,
      "outputs": []
    },
    {
      "cell_type": "code",
      "source": [
        "adjusted_r2(r2,X_train_sca)"
      ],
      "metadata": {
        "colab": {
          "base_uri": "https://localhost:8080/"
        },
        "id": "rMEQH2EM69KF",
        "outputId": "d20f6873-700f-4f07-ff8c-1a989fc50d5b"
      },
      "execution_count": 203,
      "outputs": [
        {
          "output_type": "execute_result",
          "data": {
            "text/plain": [
              "0.9813144686895516"
            ]
          },
          "metadata": {},
          "execution_count": 203
        }
      ]
    },
    {
      "cell_type": "markdown",
      "source": [
        "From the above code blocks, it is clearly visible that the accuracy is quite good and also the value of adjusted r2 is also quite close to r2."
      ],
      "metadata": {
        "id": "65ckP6pWJ2g8"
      }
    },
    {
      "cell_type": "markdown",
      "source": [
        "**ANN with all the independent Features**"
      ],
      "metadata": {
        "id": "S2QwX_az7n7J"
      }
    },
    {
      "cell_type": "code",
      "source": [
        "X=data.drop(\"High\",axis=1)\n",
        "y=data[\"High\"]\n",
        "y"
      ],
      "metadata": {
        "colab": {
          "base_uri": "https://localhost:8080/"
        },
        "id": "y6Y1gU9b7rH8",
        "outputId": "3acdd9f0-18cb-473a-cade-3d2af34a0bbd"
      },
      "execution_count": 206,
      "outputs": [
        {
          "output_type": "execute_result",
          "data": {
            "text/plain": [
              "0       332.83\n",
              "1       333.87\n",
              "2       330.75\n",
              "3       328.77\n",
              "4       322.29\n",
              "         ...  \n",
              "1253    792.74\n",
              "1254    797.86\n",
              "1255    794.23\n",
              "1256    785.93\n",
              "1257    782.78\n",
              "Name: High, Length: 1258, dtype: float64"
            ]
          },
          "metadata": {},
          "execution_count": 206
        }
      ]
    },
    {
      "cell_type": "code",
      "source": [
        "X_train, X_test, y_train, y_test = train_test_split(X, y, test_size=0.2, random_state=42)"
      ],
      "metadata": {
        "id": "C2HA2Pt97yci"
      },
      "execution_count": 207,
      "outputs": []
    },
    {
      "cell_type": "code",
      "source": [
        "#Standardizing the Data\n",
        "scaling=StandardScaler()\n",
        "X_train_sca=pd.DataFrame(scaling.fit_transform(X_train),columns=X_train.columns)\n",
        "X_test_sca=pd.DataFrame(scaling.fit_transform(X_test),columns=X_train.columns)"
      ],
      "metadata": {
        "id": "EzBkW6au70th"
      },
      "execution_count": 210,
      "outputs": []
    },
    {
      "cell_type": "code",
      "source": [
        "model=Sequential()\n",
        "\n",
        "#First Layer\n",
        "model.add(Dense(16,activation=\"relu\",input_dim=7))\n",
        "\n",
        "#Second Layer\n",
        "model.add(Dense(units=32,activation=\"relu\"))\n",
        "\n",
        "#Third Layer\n",
        "model.add(Dense(units=32,activation=\"relu\"))\n",
        "\n",
        "#Output Layer\n",
        "model.add(Dense(units=1))\n",
        "\n",
        "#Compiling the ANN\n",
        "model.compile(optimizer=\"adam\",loss=\"mean_squared_error\",metrics=['mae','mse','mape'])\n",
        "\n",
        "#Fitting the ANN to the training Dataset\n",
        "model.fit(X_train_sca,y_train,batch_size=10,epochs=100)"
      ],
      "metadata": {
        "colab": {
          "base_uri": "https://localhost:8080/"
        },
        "id": "tT5X6oa472o9",
        "outputId": "aefc0373-3571-4438-a93a-859caa9d53aa"
      },
      "execution_count": 212,
      "outputs": [
        {
          "output_type": "stream",
          "name": "stdout",
          "text": [
            "Epoch 1/100\n",
            "101/101 [==============================] - 1s 2ms/step - loss: 312241.2812 - mae: 537.2578 - mse: 312241.2812 - mape: 99.3892\n",
            "Epoch 2/100\n",
            "101/101 [==============================] - 0s 2ms/step - loss: 242296.2500 - mae: 462.7794 - mse: 242296.2500 - mape: 83.8575\n",
            "Epoch 3/100\n",
            "101/101 [==============================] - 0s 2ms/step - loss: 46244.7656 - mae: 179.2700 - mse: 46244.7656 - mape: 33.4888\n",
            "Epoch 4/100\n",
            "101/101 [==============================] - 0s 2ms/step - loss: 10372.4502 - mae: 85.4709 - mse: 10372.4502 - mape: 17.4649\n",
            "Epoch 5/100\n",
            "101/101 [==============================] - 0s 2ms/step - loss: 5825.5737 - mae: 62.3731 - mse: 5825.5737 - mape: 13.0147\n",
            "Epoch 6/100\n",
            "101/101 [==============================] - 0s 2ms/step - loss: 3913.8088 - mae: 50.2249 - mse: 3913.8088 - mape: 10.4134\n",
            "Epoch 7/100\n",
            "101/101 [==============================] - 0s 2ms/step - loss: 2963.6562 - mae: 43.0889 - mse: 2963.6562 - mape: 8.8796\n",
            "Epoch 8/100\n",
            "101/101 [==============================] - 0s 2ms/step - loss: 2371.9705 - mae: 37.8511 - mse: 2371.9705 - mape: 7.7496\n",
            "Epoch 9/100\n",
            "101/101 [==============================] - 0s 2ms/step - loss: 1985.9775 - mae: 34.0240 - mse: 1985.9775 - mape: 6.9601\n",
            "Epoch 10/100\n",
            "101/101 [==============================] - 0s 2ms/step - loss: 1674.4728 - mae: 31.0577 - mse: 1674.4727 - mape: 6.3371\n",
            "Epoch 11/100\n",
            "101/101 [==============================] - 0s 2ms/step - loss: 1444.3181 - mae: 28.8161 - mse: 1444.3181 - mape: 5.8852\n",
            "Epoch 12/100\n",
            "101/101 [==============================] - 0s 2ms/step - loss: 1257.7473 - mae: 26.9283 - mse: 1257.7473 - mape: 5.4962\n",
            "Epoch 13/100\n",
            "101/101 [==============================] - 0s 2ms/step - loss: 1102.9462 - mae: 25.2516 - mse: 1102.9462 - mape: 5.1593\n",
            "Epoch 14/100\n",
            "101/101 [==============================] - 0s 2ms/step - loss: 968.6998 - mae: 23.7839 - mse: 968.6998 - mape: 4.8256\n",
            "Epoch 15/100\n",
            "101/101 [==============================] - 0s 2ms/step - loss: 852.0510 - mae: 22.2148 - mse: 852.0510 - mape: 4.5113\n",
            "Epoch 16/100\n",
            "101/101 [==============================] - 0s 2ms/step - loss: 758.6594 - mae: 21.1686 - mse: 758.6594 - mape: 4.2854\n",
            "Epoch 17/100\n",
            "101/101 [==============================] - 0s 2ms/step - loss: 679.3342 - mae: 20.1163 - mse: 679.3342 - mape: 4.0691\n",
            "Epoch 18/100\n",
            "101/101 [==============================] - 0s 2ms/step - loss: 598.1921 - mae: 18.9092 - mse: 598.1921 - mape: 3.8130\n",
            "Epoch 19/100\n",
            "101/101 [==============================] - 0s 3ms/step - loss: 536.6318 - mae: 17.9793 - mse: 536.6318 - mape: 3.6227\n",
            "Epoch 20/100\n",
            "101/101 [==============================] - 0s 3ms/step - loss: 477.4909 - mae: 16.8702 - mse: 477.4909 - mape: 3.3849\n",
            "Epoch 21/100\n",
            "101/101 [==============================] - 0s 3ms/step - loss: 429.5139 - mae: 16.2262 - mse: 429.5139 - mape: 3.2494\n",
            "Epoch 22/100\n",
            "101/101 [==============================] - 0s 3ms/step - loss: 385.4815 - mae: 15.3460 - mse: 385.4815 - mape: 3.0785\n",
            "Epoch 23/100\n",
            "101/101 [==============================] - 0s 2ms/step - loss: 348.6799 - mae: 14.6851 - mse: 348.6799 - mape: 2.9317\n",
            "Epoch 24/100\n",
            "101/101 [==============================] - 0s 2ms/step - loss: 315.6494 - mae: 13.7785 - mse: 315.6494 - mape: 2.7518\n",
            "Epoch 25/100\n",
            "101/101 [==============================] - 0s 2ms/step - loss: 287.1165 - mae: 13.2577 - mse: 287.1165 - mape: 2.6415\n",
            "Epoch 26/100\n",
            "101/101 [==============================] - 0s 2ms/step - loss: 262.7657 - mae: 12.7991 - mse: 262.7657 - mape: 2.5439\n",
            "Epoch 27/100\n",
            "101/101 [==============================] - 0s 2ms/step - loss: 237.9854 - mae: 12.0688 - mse: 237.9854 - mape: 2.4058\n",
            "Epoch 28/100\n",
            "101/101 [==============================] - 0s 2ms/step - loss: 216.8898 - mae: 11.4961 - mse: 216.8898 - mape: 2.2847\n",
            "Epoch 29/100\n",
            "101/101 [==============================] - 0s 2ms/step - loss: 199.2828 - mae: 11.0512 - mse: 199.2828 - mape: 2.1823\n",
            "Epoch 30/100\n",
            "101/101 [==============================] - 0s 2ms/step - loss: 184.4027 - mae: 10.6118 - mse: 184.4027 - mape: 2.0922\n",
            "Epoch 31/100\n",
            "101/101 [==============================] - 0s 2ms/step - loss: 174.3196 - mae: 10.3532 - mse: 174.3196 - mape: 2.0353\n",
            "Epoch 32/100\n",
            "101/101 [==============================] - 0s 2ms/step - loss: 160.0822 - mae: 9.9623 - mse: 160.0822 - mape: 1.9600\n",
            "Epoch 33/100\n",
            "101/101 [==============================] - 0s 2ms/step - loss: 151.1666 - mae: 9.6135 - mse: 151.1666 - mape: 1.8794\n",
            "Epoch 34/100\n",
            "101/101 [==============================] - 0s 2ms/step - loss: 140.0510 - mae: 9.2505 - mse: 140.0510 - mape: 1.8118\n",
            "Epoch 35/100\n",
            "101/101 [==============================] - 0s 2ms/step - loss: 133.1921 - mae: 9.0707 - mse: 133.1921 - mape: 1.7768\n",
            "Epoch 36/100\n",
            "101/101 [==============================] - 0s 2ms/step - loss: 127.8145 - mae: 8.7962 - mse: 127.8145 - mape: 1.7203\n",
            "Epoch 37/100\n",
            "101/101 [==============================] - 0s 2ms/step - loss: 119.8107 - mae: 8.5513 - mse: 119.8107 - mape: 1.6649\n",
            "Epoch 38/100\n",
            "101/101 [==============================] - 0s 2ms/step - loss: 112.9359 - mae: 8.2606 - mse: 112.9359 - mape: 1.6105\n",
            "Epoch 39/100\n",
            "101/101 [==============================] - 0s 2ms/step - loss: 107.6108 - mae: 8.0058 - mse: 107.6108 - mape: 1.5556\n",
            "Epoch 40/100\n",
            "101/101 [==============================] - 0s 2ms/step - loss: 104.0499 - mae: 7.8971 - mse: 104.0499 - mape: 1.5319\n",
            "Epoch 41/100\n",
            "101/101 [==============================] - 0s 2ms/step - loss: 101.5561 - mae: 7.8878 - mse: 101.5561 - mape: 1.5231\n",
            "Epoch 42/100\n",
            "101/101 [==============================] - 0s 2ms/step - loss: 98.0460 - mae: 7.6822 - mse: 98.0460 - mape: 1.4854\n",
            "Epoch 43/100\n",
            "101/101 [==============================] - 0s 2ms/step - loss: 95.1536 - mae: 7.6041 - mse: 95.1536 - mape: 1.4594\n",
            "Epoch 44/100\n",
            "101/101 [==============================] - 0s 2ms/step - loss: 91.6294 - mae: 7.3362 - mse: 91.6294 - mape: 1.4060\n",
            "Epoch 45/100\n",
            "101/101 [==============================] - 0s 2ms/step - loss: 89.8011 - mae: 7.3150 - mse: 89.8011 - mape: 1.4088\n",
            "Epoch 46/100\n",
            "101/101 [==============================] - 0s 2ms/step - loss: 85.0985 - mae: 7.0911 - mse: 85.0985 - mape: 1.3620\n",
            "Epoch 47/100\n",
            "101/101 [==============================] - 0s 2ms/step - loss: 82.9705 - mae: 7.0377 - mse: 82.9705 - mape: 1.3481\n",
            "Epoch 48/100\n",
            "101/101 [==============================] - 0s 2ms/step - loss: 79.7816 - mae: 6.8343 - mse: 79.7816 - mape: 1.3069\n",
            "Epoch 49/100\n",
            "101/101 [==============================] - 0s 2ms/step - loss: 81.0019 - mae: 6.8620 - mse: 81.0019 - mape: 1.3142\n",
            "Epoch 50/100\n",
            "101/101 [==============================] - 0s 2ms/step - loss: 83.7141 - mae: 7.0495 - mse: 83.7141 - mape: 1.3292\n",
            "Epoch 51/100\n",
            "101/101 [==============================] - 0s 2ms/step - loss: 75.6382 - mae: 6.6214 - mse: 75.6382 - mape: 1.2561\n",
            "Epoch 52/100\n",
            "101/101 [==============================] - 0s 2ms/step - loss: 73.3703 - mae: 6.5853 - mse: 73.3703 - mape: 1.2581\n",
            "Epoch 53/100\n",
            "101/101 [==============================] - 0s 2ms/step - loss: 70.7755 - mae: 6.3895 - mse: 70.7755 - mape: 1.2094\n",
            "Epoch 54/100\n",
            "101/101 [==============================] - 0s 2ms/step - loss: 67.8426 - mae: 6.2754 - mse: 67.8426 - mape: 1.1919\n",
            "Epoch 55/100\n",
            "101/101 [==============================] - 0s 2ms/step - loss: 68.7607 - mae: 6.3303 - mse: 68.7607 - mape: 1.1974\n",
            "Epoch 56/100\n",
            "101/101 [==============================] - 0s 2ms/step - loss: 66.8467 - mae: 6.2702 - mse: 66.8467 - mape: 1.1889\n",
            "Epoch 57/100\n",
            "101/101 [==============================] - 0s 2ms/step - loss: 65.6433 - mae: 6.1501 - mse: 65.6433 - mape: 1.1622\n",
            "Epoch 58/100\n",
            "101/101 [==============================] - 0s 2ms/step - loss: 63.1360 - mae: 5.9976 - mse: 63.1360 - mape: 1.1338\n",
            "Epoch 59/100\n",
            "101/101 [==============================] - 0s 2ms/step - loss: 61.7237 - mae: 5.9425 - mse: 61.7237 - mape: 1.1345\n",
            "Epoch 60/100\n",
            "101/101 [==============================] - 0s 2ms/step - loss: 58.3982 - mae: 5.7740 - mse: 58.3982 - mape: 1.0858\n",
            "Epoch 61/100\n",
            "101/101 [==============================] - 0s 2ms/step - loss: 56.0187 - mae: 5.6578 - mse: 56.0187 - mape: 1.0698\n",
            "Epoch 62/100\n",
            "101/101 [==============================] - 0s 2ms/step - loss: 53.8832 - mae: 5.5405 - mse: 53.8832 - mape: 1.0492\n",
            "Epoch 63/100\n",
            "101/101 [==============================] - 0s 2ms/step - loss: 55.3131 - mae: 5.6243 - mse: 55.3131 - mape: 1.0547\n",
            "Epoch 64/100\n",
            "101/101 [==============================] - 0s 2ms/step - loss: 54.4422 - mae: 5.5851 - mse: 54.4422 - mape: 1.0561\n",
            "Epoch 65/100\n",
            "101/101 [==============================] - 0s 2ms/step - loss: 50.3491 - mae: 5.4189 - mse: 50.3491 - mape: 1.0165\n",
            "Epoch 66/100\n",
            "101/101 [==============================] - 0s 2ms/step - loss: 50.2615 - mae: 5.3539 - mse: 50.2615 - mape: 1.0045\n",
            "Epoch 67/100\n",
            "101/101 [==============================] - 0s 2ms/step - loss: 46.7939 - mae: 5.2331 - mse: 46.7939 - mape: 0.9861\n",
            "Epoch 68/100\n",
            "101/101 [==============================] - 0s 2ms/step - loss: 48.0699 - mae: 5.2907 - mse: 48.0699 - mape: 0.9942\n",
            "Epoch 69/100\n",
            "101/101 [==============================] - 0s 2ms/step - loss: 47.4071 - mae: 5.1074 - mse: 47.4071 - mape: 0.9630\n",
            "Epoch 70/100\n",
            "101/101 [==============================] - 0s 2ms/step - loss: 47.2716 - mae: 5.1894 - mse: 47.2716 - mape: 0.9791\n",
            "Epoch 71/100\n",
            "101/101 [==============================] - 0s 2ms/step - loss: 44.7776 - mae: 5.0379 - mse: 44.7776 - mape: 0.9397\n",
            "Epoch 72/100\n",
            "101/101 [==============================] - 0s 2ms/step - loss: 46.8560 - mae: 5.1264 - mse: 46.8560 - mape: 0.9557\n",
            "Epoch 73/100\n",
            "101/101 [==============================] - 0s 2ms/step - loss: 42.7538 - mae: 4.9083 - mse: 42.7538 - mape: 0.9339\n",
            "Epoch 74/100\n",
            "101/101 [==============================] - 0s 2ms/step - loss: 43.5330 - mae: 4.9704 - mse: 43.5330 - mape: 0.9288\n",
            "Epoch 75/100\n",
            "101/101 [==============================] - 0s 2ms/step - loss: 42.9218 - mae: 4.8854 - mse: 42.9218 - mape: 0.9142\n",
            "Epoch 76/100\n",
            "101/101 [==============================] - 0s 2ms/step - loss: 43.4248 - mae: 4.9588 - mse: 43.4248 - mape: 0.9346\n",
            "Epoch 77/100\n",
            "101/101 [==============================] - 0s 2ms/step - loss: 40.1010 - mae: 4.7459 - mse: 40.1010 - mape: 0.8882\n",
            "Epoch 78/100\n",
            "101/101 [==============================] - 0s 2ms/step - loss: 40.6125 - mae: 4.7789 - mse: 40.6125 - mape: 0.9020\n",
            "Epoch 79/100\n",
            "101/101 [==============================] - 0s 2ms/step - loss: 43.9532 - mae: 4.9694 - mse: 43.9532 - mape: 0.9335\n",
            "Epoch 80/100\n",
            "101/101 [==============================] - 0s 2ms/step - loss: 40.4936 - mae: 4.7772 - mse: 40.4936 - mape: 0.9021\n",
            "Epoch 81/100\n",
            "101/101 [==============================] - 0s 2ms/step - loss: 39.7342 - mae: 4.7666 - mse: 39.7342 - mape: 0.9018\n",
            "Epoch 82/100\n",
            "101/101 [==============================] - 0s 2ms/step - loss: 39.7560 - mae: 4.7796 - mse: 39.7560 - mape: 0.8940\n",
            "Epoch 83/100\n",
            "101/101 [==============================] - 0s 2ms/step - loss: 40.2386 - mae: 4.7368 - mse: 40.2386 - mape: 0.8865\n",
            "Epoch 84/100\n",
            "101/101 [==============================] - 0s 3ms/step - loss: 37.1736 - mae: 4.5485 - mse: 37.1736 - mape: 0.8549\n",
            "Epoch 85/100\n",
            "101/101 [==============================] - 0s 4ms/step - loss: 39.5388 - mae: 4.8477 - mse: 39.5388 - mape: 0.9153\n",
            "Epoch 86/100\n",
            "101/101 [==============================] - 1s 8ms/step - loss: 39.0064 - mae: 4.6465 - mse: 39.0064 - mape: 0.8703\n",
            "Epoch 87/100\n",
            "101/101 [==============================] - 0s 4ms/step - loss: 40.0305 - mae: 4.7682 - mse: 40.0305 - mape: 0.8982\n",
            "Epoch 88/100\n",
            "101/101 [==============================] - 0s 3ms/step - loss: 37.4195 - mae: 4.5676 - mse: 37.4195 - mape: 0.8617\n",
            "Epoch 89/100\n",
            "101/101 [==============================] - 0s 4ms/step - loss: 36.6448 - mae: 4.5304 - mse: 36.6448 - mape: 0.8511\n",
            "Epoch 90/100\n",
            "101/101 [==============================] - 0s 3ms/step - loss: 35.5477 - mae: 4.4791 - mse: 35.5477 - mape: 0.8426\n",
            "Epoch 91/100\n",
            "101/101 [==============================] - 0s 2ms/step - loss: 36.8585 - mae: 4.5262 - mse: 36.8585 - mape: 0.8455\n",
            "Epoch 92/100\n",
            "101/101 [==============================] - 0s 2ms/step - loss: 34.2425 - mae: 4.3811 - mse: 34.2425 - mape: 0.8202\n",
            "Epoch 93/100\n",
            "101/101 [==============================] - 0s 2ms/step - loss: 37.1610 - mae: 4.5226 - mse: 37.1610 - mape: 0.8490\n",
            "Epoch 94/100\n",
            "101/101 [==============================] - 0s 2ms/step - loss: 36.9521 - mae: 4.5358 - mse: 36.9521 - mape: 0.8466\n",
            "Epoch 95/100\n",
            "101/101 [==============================] - 0s 2ms/step - loss: 33.9708 - mae: 4.3510 - mse: 33.9708 - mape: 0.8176\n",
            "Epoch 96/100\n",
            "101/101 [==============================] - 0s 2ms/step - loss: 34.6998 - mae: 4.3909 - mse: 34.6998 - mape: 0.8172\n",
            "Epoch 97/100\n",
            "101/101 [==============================] - 0s 2ms/step - loss: 34.8401 - mae: 4.3920 - mse: 34.8401 - mape: 0.8279\n",
            "Epoch 98/100\n",
            "101/101 [==============================] - 0s 2ms/step - loss: 31.6681 - mae: 4.2301 - mse: 31.6681 - mape: 0.7966\n",
            "Epoch 99/100\n",
            "101/101 [==============================] - 0s 2ms/step - loss: 33.4411 - mae: 4.3242 - mse: 33.4411 - mape: 0.8132\n",
            "Epoch 100/100\n",
            "101/101 [==============================] - 0s 2ms/step - loss: 31.4475 - mae: 4.2433 - mse: 31.4475 - mape: 0.8061\n"
          ]
        },
        {
          "output_type": "execute_result",
          "data": {
            "text/plain": [
              "<keras.callbacks.History at 0x7f23fa415cd0>"
            ]
          },
          "metadata": {},
          "execution_count": 212
        }
      ]
    },
    {
      "cell_type": "code",
      "source": [
        "model.evaluate(X_test_sca,y_test)"
      ],
      "metadata": {
        "colab": {
          "base_uri": "https://localhost:8080/"
        },
        "id": "ZhNXWA1p74nC",
        "outputId": "4fdf1c9c-758c-4769-ba15-a1b9b564c9d2"
      },
      "execution_count": 213,
      "outputs": [
        {
          "output_type": "stream",
          "name": "stdout",
          "text": [
            "8/8 [==============================] - 1s 3ms/step - loss: 500.2848 - mae: 20.2201 - mse: 500.2848 - mape: 3.7188\n"
          ]
        },
        {
          "output_type": "execute_result",
          "data": {
            "text/plain": [
              "[500.2847900390625, 20.220144271850586, 500.2847900390625, 3.7187931537628174]"
            ]
          },
          "metadata": {},
          "execution_count": 213
        }
      ]
    },
    {
      "cell_type": "code",
      "source": [
        "y_pred=model.predict(X_test_sca)"
      ],
      "metadata": {
        "colab": {
          "base_uri": "https://localhost:8080/"
        },
        "id": "61UPKWld8A2a",
        "outputId": "9985b92c-0f6e-4d68-d947-99e3e1fc2af6"
      },
      "execution_count": 214,
      "outputs": [
        {
          "output_type": "stream",
          "name": "stdout",
          "text": [
            "8/8 [==============================] - 0s 9ms/step\n"
          ]
        }
      ]
    },
    {
      "cell_type": "code",
      "source": [
        "r2=r2_score(y_test,y_pred)\n",
        "r2"
      ],
      "metadata": {
        "colab": {
          "base_uri": "https://localhost:8080/"
        },
        "id": "YOYdtlJ48DFd",
        "outputId": "893c709c-f7d4-41b9-9ebd-b6caaf51540e"
      },
      "execution_count": 215,
      "outputs": [
        {
          "output_type": "execute_result",
          "data": {
            "text/plain": [
              "0.9783369557853453"
            ]
          },
          "metadata": {},
          "execution_count": 215
        }
      ]
    },
    {
      "cell_type": "code",
      "source": [
        "adjusted_r2(r2,X_train_sca)"
      ],
      "metadata": {
        "colab": {
          "base_uri": "https://localhost:8080/"
        },
        "id": "4U_Hklgj8FeU",
        "outputId": "4a7e57a5-0828-45e3-9334-d2468676f175"
      },
      "execution_count": 219,
      "outputs": [
        {
          "output_type": "execute_result",
          "data": {
            "text/plain": [
              "0.9568426002511156"
            ]
          },
          "metadata": {},
          "execution_count": 219
        }
      ]
    },
    {
      "cell_type": "code",
      "source": [],
      "metadata": {
        "id": "OnuMvkrJ8ZcJ"
      },
      "execution_count": null,
      "outputs": []
    }
  ]
}